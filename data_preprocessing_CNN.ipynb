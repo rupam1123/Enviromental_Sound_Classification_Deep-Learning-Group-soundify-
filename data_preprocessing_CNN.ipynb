{
  "nbformat": 4,
  "nbformat_minor": 0,
  "metadata": {
    "colab": {
      "provenance": [],
      "authorship_tag": "ABX9TyOt8pklqm6wX5tncFc+bEyL",
      "include_colab_link": true
    },
    "kernelspec": {
      "name": "python3",
      "display_name": "Python 3"
    },
    "language_info": {
      "name": "python"
    }
  },
  "cells": [
    {
      "cell_type": "markdown",
      "metadata": {
        "id": "view-in-github",
        "colab_type": "text"
      },
      "source": [
        "<a href=\"https://colab.research.google.com/github/rupam1123/Enviromental_Sound_Classification_Deep-Learning-Group-soundify-/blob/main/data_preprocessing_CNN.ipynb\" target=\"_parent\"><img src=\"https://colab.research.google.com/assets/colab-badge.svg\" alt=\"Open In Colab\"/></a>"
      ]
    },
    {
      "cell_type": "markdown",
      "source": [
        "#1.  ----Data Preprocessing"
      ],
      "metadata": {
        "id": "JKUlsBEYRBau"
      }
    },
    {
      "cell_type": "code",
      "source": [
        "import os\n",
        "from google.colab import drive\n",
        "drive.mount('/content/drive')\n",
        "dataset_path = \"/content/drive/My Drive/UrbanSound8K/UrbanSound8K\"\n",
        "print(os.listdir(dataset_path))\n",
        " # here we are mounting gdrive to colab since the dataset is stored there..\n",
        "print(\"success\")"
      ],
      "metadata": {
        "colab": {
          "base_uri": "https://localhost:8080/"
        },
        "id": "wjLrsZvJUqnA",
        "outputId": "501328ce-dd8f-4ab5-f06d-e0491d8b8657"
      },
      "execution_count": 1,
      "outputs": [
        {
          "output_type": "stream",
          "name": "stdout",
          "text": [
            "Drive already mounted at /content/drive; to attempt to forcibly remount, call drive.mount(\"/content/drive\", force_remount=True).\n",
            "['.DS_Store', 'FREESOUNDCREDITS.txt', 'UrbanSound8K_README.txt', 'audio', 'metadata', 'extracted_features.pkl']\n",
            "success\n"
          ]
        }
      ]
    },
    {
      "cell_type": "code",
      "source": [
        "!pip install librosa\n",
        "!pip install resampy\n",
        "import librosa\n",
        "import librosa.display\n",
        "import numpy as np\n",
        "import pandas as pd\n",
        "import matplotlib.pyplot as plt\n",
        "%matplotlib inline\n",
        "import IPython.display as ipd"
      ],
      "metadata": {
        "colab": {
          "base_uri": "https://localhost:8080/"
        },
        "id": "iwEUDjMSO6Ta",
        "outputId": "4595e39d-1944-4d2a-c47c-f20b1e627bd1"
      },
      "execution_count": 2,
      "outputs": [
        {
          "output_type": "stream",
          "name": "stdout",
          "text": [
            "Requirement already satisfied: librosa in /usr/local/lib/python3.11/dist-packages (0.10.2.post1)\n",
            "Requirement already satisfied: audioread>=2.1.9 in /usr/local/lib/python3.11/dist-packages (from librosa) (3.0.1)\n",
            "Requirement already satisfied: numpy!=1.22.0,!=1.22.1,!=1.22.2,>=1.20.3 in /usr/local/lib/python3.11/dist-packages (from librosa) (1.26.4)\n",
            "Requirement already satisfied: scipy>=1.2.0 in /usr/local/lib/python3.11/dist-packages (from librosa) (1.13.1)\n",
            "Requirement already satisfied: scikit-learn>=0.20.0 in /usr/local/lib/python3.11/dist-packages (from librosa) (1.6.1)\n",
            "Requirement already satisfied: joblib>=0.14 in /usr/local/lib/python3.11/dist-packages (from librosa) (1.4.2)\n",
            "Requirement already satisfied: decorator>=4.3.0 in /usr/local/lib/python3.11/dist-packages (from librosa) (4.4.2)\n",
            "Requirement already satisfied: numba>=0.51.0 in /usr/local/lib/python3.11/dist-packages (from librosa) (0.61.0)\n",
            "Requirement already satisfied: soundfile>=0.12.1 in /usr/local/lib/python3.11/dist-packages (from librosa) (0.13.1)\n",
            "Requirement already satisfied: pooch>=1.1 in /usr/local/lib/python3.11/dist-packages (from librosa) (1.8.2)\n",
            "Requirement already satisfied: soxr>=0.3.2 in /usr/local/lib/python3.11/dist-packages (from librosa) (0.5.0.post1)\n",
            "Requirement already satisfied: typing-extensions>=4.1.1 in /usr/local/lib/python3.11/dist-packages (from librosa) (4.12.2)\n",
            "Requirement already satisfied: lazy-loader>=0.1 in /usr/local/lib/python3.11/dist-packages (from librosa) (0.4)\n",
            "Requirement already satisfied: msgpack>=1.0 in /usr/local/lib/python3.11/dist-packages (from librosa) (1.1.0)\n",
            "Requirement already satisfied: packaging in /usr/local/lib/python3.11/dist-packages (from lazy-loader>=0.1->librosa) (24.2)\n",
            "Requirement already satisfied: llvmlite<0.45,>=0.44.0dev0 in /usr/local/lib/python3.11/dist-packages (from numba>=0.51.0->librosa) (0.44.0)\n",
            "Requirement already satisfied: platformdirs>=2.5.0 in /usr/local/lib/python3.11/dist-packages (from pooch>=1.1->librosa) (4.3.6)\n",
            "Requirement already satisfied: requests>=2.19.0 in /usr/local/lib/python3.11/dist-packages (from pooch>=1.1->librosa) (2.32.3)\n",
            "Requirement already satisfied: threadpoolctl>=3.1.0 in /usr/local/lib/python3.11/dist-packages (from scikit-learn>=0.20.0->librosa) (3.5.0)\n",
            "Requirement already satisfied: cffi>=1.0 in /usr/local/lib/python3.11/dist-packages (from soundfile>=0.12.1->librosa) (1.17.1)\n",
            "Requirement already satisfied: pycparser in /usr/local/lib/python3.11/dist-packages (from cffi>=1.0->soundfile>=0.12.1->librosa) (2.22)\n",
            "Requirement already satisfied: charset-normalizer<4,>=2 in /usr/local/lib/python3.11/dist-packages (from requests>=2.19.0->pooch>=1.1->librosa) (3.4.1)\n",
            "Requirement already satisfied: idna<4,>=2.5 in /usr/local/lib/python3.11/dist-packages (from requests>=2.19.0->pooch>=1.1->librosa) (3.10)\n",
            "Requirement already satisfied: urllib3<3,>=1.21.1 in /usr/local/lib/python3.11/dist-packages (from requests>=2.19.0->pooch>=1.1->librosa) (2.3.0)\n",
            "Requirement already satisfied: certifi>=2017.4.17 in /usr/local/lib/python3.11/dist-packages (from requests>=2.19.0->pooch>=1.1->librosa) (2025.1.31)\n",
            "Requirement already satisfied: resampy in /usr/local/lib/python3.11/dist-packages (0.4.3)\n",
            "Requirement already satisfied: numpy>=1.17 in /usr/local/lib/python3.11/dist-packages (from resampy) (1.26.4)\n",
            "Requirement already satisfied: numba>=0.53 in /usr/local/lib/python3.11/dist-packages (from resampy) (0.61.0)\n",
            "Requirement already satisfied: llvmlite<0.45,>=0.44.0dev0 in /usr/local/lib/python3.11/dist-packages (from numba>=0.53->resampy) (0.44.0)\n"
          ]
        }
      ]
    },
    {
      "cell_type": "code",
      "source": [
        "file_path = os.path.join(dataset_path, \"audio/fold10/2937-1-0-0.wav\")\n",
        "audio, sr = librosa.load(file_path, sr=None)\n",
        "plt.figure(figsize=(10, 4))\n",
        "librosa.display.waveshow(audio, sr=sr)\n",
        "plt.title(\"Waveform\")\n",
        "plt.xlabel(\"Time (s)\")\n",
        "plt.ylabel(\"Amplitude\")\n",
        "plt.show()\n",
        "ipd.Audio(file_path)\n",
        "\n",
        "# example test\n",
        "\n",
        "#STFT\n",
        "plt.figure(figsize=(10, 4))\n",
        "D = librosa.amplitude_to_db(np.abs(librosa.stft(audio)), ref=np.max)\n",
        "librosa.display.specshow(D, sr=sr, x_axis=\"time\", y_axis=\"log\")\n",
        "plt.colorbar(format=\"%+2.0f dB\")\n",
        "plt.title(\"Spectrogram (STFT)\")\n",
        "plt.xlabel(\"Time (s)\")\n",
        "plt.ylabel(\"Frequency (Hz)\")\n",
        "plt.show()\n",
        "\n",
        "# Mel Spectrogram\n",
        "plt.figure(figsize=(10, 4))\n",
        "S = librosa.feature.melspectrogram(y=audio, sr=sr, n_mels=128)\n",
        "S_db = librosa.amplitude_to_db(S, ref=np.max)\n",
        "librosa.display.specshow(S_db, sr=sr, x_axis=\"time\", y_axis=\"mel\")\n",
        "plt.colorbar(format=\"%+2.0f dB\")\n",
        "plt.title(\"Mel Spectrogram\")\n",
        "plt.xlabel(\"Time (s)\")\n",
        "plt.ylabel(\"Mel Frequency\")\n",
        "plt.show()\n",
        "\n",
        "# MFCC\n",
        "plt.figure(figsize=(10, 4))\n",
        "mfccs = librosa.feature.mfcc(y=audio, sr=sr, n_mfcc=13)\n",
        "librosa.display.specshow(mfccs, sr=sr, x_axis=\"time\")\n",
        "plt.colorbar()\n",
        "plt.title(\"MFCC\")\n",
        "plt.xlabel(\"Time (s)\")\n",
        "plt.ylabel(\"MFCC Coefficients\")\n",
        "plt.show()\n"
      ],
      "metadata": {
        "colab": {
          "base_uri": "https://localhost:8080/",
          "height": 1000
        },
        "id": "JJoaLkJ82mPt",
        "outputId": "6ab6ea51-bf4c-4968-9e67-36f914cd660c"
      },
      "execution_count": 3,
      "outputs": [
        {
          "output_type": "display_data",
          "data": {
            "text/plain": [
              "<Figure size 1000x400 with 1 Axes>"
            ],
            "image/png": "[encoded data removed]"
          },
          "metadata": {}
        },
        {
          "output_type": "display_data",
          "data": {
            "text/plain": [
              "<Figure size 1000x400 with 2 Axes>"
            ],
            "image/png": "[encoded data removed]"
          },
          "metadata": {}
        },
        {
          "output_type": "display_data",
          "data": {
            "text/plain": [
              "<Figure size 1000x400 with 2 Axes>"
            ],
            "image/png": "[encoded data removed]"
          },
          "metadata": {}
        },
        {
          "output_type": "display_data",
          "data": {
            "text/plain": [
              "<Figure size 1000x400 with 2 Axes>"
            ],
            "image/png": "[encoded data removed]"
          },
          "metadata": {}
        }
      ]
    },
    {
      "cell_type": "code",
      "execution_count": 4,
      "metadata": {
        "id": "rjqU0S28IFJ1",
        "colab": {
          "base_uri": "https://localhost:8080/"
        },
        "outputId": "07c1de6f-2105-4709-ab85-b9aa58d4ba65"
      },
      "outputs": [
        {
          "output_type": "execute_result",
          "data": {
            "text/plain": [
              "44100"
            ]
          },
          "metadata": {},
          "execution_count": 4
        }
      ],
      "source": [
        "sr"
      ]
    },
    {
      "cell_type": "code",
      "source": [
        "metadata = pd.read_csv(os.path.join(dataset_path, 'metadata/UrbanSound8K.csv'))\n",
        "metadata.head()\n",
        "\n",
        "\n",
        "#metadata\n",
        "metadata"
      ],
      "metadata": {
        "colab": {
          "base_uri": "https://localhost:8080/",
          "height": 423
        },
        "id": "TxpUcQHkjZuA",
        "outputId": "a7ddaaf7-fca1-4540-f344-3efa72e22a15"
      },
      "execution_count": 5,
      "outputs": [
        {
          "output_type": "execute_result",
          "data": {
            "text/plain": [
              "         slice_file_name    fsID       start         end  salience  fold  \\\n",
              "0       100032-3-0-0.wav  100032    0.000000    0.317551         1     5   \n",
              "1     100263-2-0-117.wav  100263   58.500000   62.500000         1     5   \n",
              "2     100263-2-0-121.wav  100263   60.500000   64.500000         1     5   \n",
              "3     100263-2-0-126.wav  100263   63.000000   67.000000         1     5   \n",
              "4     100263-2-0-137.wav  100263   68.500000   72.500000         1     5   \n",
              "...                  ...     ...         ...         ...       ...   ...   \n",
              "8727     99812-1-2-0.wav   99812  159.522205  163.522205         2     7   \n",
              "8728     99812-1-3-0.wav   99812  181.142431  183.284976         2     7   \n",
              "8729     99812-1-4-0.wav   99812  242.691902  246.197885         2     7   \n",
              "8730     99812-1-5-0.wav   99812  253.209850  255.741948         2     7   \n",
              "8731     99812-1-6-0.wav   99812  332.289233  334.821332         2     7   \n",
              "\n",
              "      classID             class  \n",
              "0           3          dog_bark  \n",
              "1           2  children_playing  \n",
              "2           2  children_playing  \n",
              "3           2  children_playing  \n",
              "4           2  children_playing  \n",
              "...       ...               ...  \n",
              "8727        1          car_horn  \n",
              "8728        1          car_horn  \n",
              "8729        1          car_horn  \n",
              "8730        1          car_horn  \n",
              "8731        1          car_horn  \n",
              "\n",
              "[8732 rows x 8 columns]"
            ],
            "text/html": [
              "\n",
              "  <div id=\"df-0ce7e064-397e-4282-ab67-2efaebcb1729\" class=\"colab-df-container\">\n",
              "    <div>\n",
              "<style scoped>\n",
              "    .dataframe tbody tr th:only-of-type {\n",
              "        vertical-align: middle;\n",
              "    }\n",
              "\n",
              "    .dataframe tbody tr th {\n",
              "        vertical-align: top;\n",
              "    }\n",
              "\n",
              "    .dataframe thead th {\n",
              "        text-align: right;\n",
              "    }\n",
              "</style>\n",
              "<table border=\"1\" class=\"dataframe\">\n",
              "  <thead>\n",
              "    <tr style=\"text-align: right;\">\n",
              "      <th></th>\n",
              "      <th>slice_file_name</th>\n",
              "      <th>fsID</th>\n",
              "      <th>start</th>\n",
              "      <th>end</th>\n",
              "      <th>salience</th>\n",
              "      <th>fold</th>\n",
              "      <th>classID</th>\n",
              "      <th>class</th>\n",
              "    </tr>\n",
              "  </thead>\n",
              "  <tbody>\n",
              "    <tr>\n",
              "      <th>0</th>\n",
              "      <td>100032-3-0-0.wav</td>\n",
              "      <td>100032</td>\n",
              "      <td>0.000000</td>\n",
              "      <td>0.317551</td>\n",
              "      <td>1</td>\n",
              "      <td>5</td>\n",
              "      <td>3</td>\n",
              "      <td>dog_bark</td>\n",
              "    </tr>\n",
              "    <tr>\n",
              "      <th>1</th>\n",
              "      <td>100263-2-0-117.wav</td>\n",
              "      <td>100263</td>\n",
              "      <td>58.500000</td>\n",
              "      <td>62.500000</td>\n",
              "      <td>1</td>\n",
              "      <td>5</td>\n",
              "      <td>2</td>\n",
              "      <td>children_playing</td>\n",
              "    </tr>\n",
              "    <tr>\n",
              "      <th>2</th>\n",
              "      <td>100263-2-0-121.wav</td>\n",
              "      <td>100263</td>\n",
              "      <td>60.500000</td>\n",
              "      <td>64.500000</td>\n",
              "      <td>1</td>\n",
              "      <td>5</td>\n",
              "      <td>2</td>\n",
              "      <td>children_playing</td>\n",
              "    </tr>\n",
              "    <tr>\n",
              "      <th>3</th>\n",
              "      <td>100263-2-0-126.wav</td>\n",
              "      <td>100263</td>\n",
              "      <td>63.000000</td>\n",
              "      <td>67.000000</td>\n",
              "      <td>1</td>\n",
              "      <td>5</td>\n",
              "      <td>2</td>\n",
              "      <td>children_playing</td>\n",
              "    </tr>\n",
              "    <tr>\n",
              "      <th>4</th>\n",
              "      <td>100263-2-0-137.wav</td>\n",
              "      <td>100263</td>\n",
              "      <td>68.500000</td>\n",
              "      <td>72.500000</td>\n",
              "      <td>1</td>\n",
              "      <td>5</td>\n",
              "      <td>2</td>\n",
              "      <td>children_playing</td>\n",
              "    </tr>\n",
              "    <tr>\n",
              "      <th>...</th>\n",
              "      <td>...</td>\n",
              "      <td>...</td>\n",
              "      <td>...</td>\n",
              "      <td>...</td>\n",
              "      <td>...</td>\n",
              "      <td>...</td>\n",
              "      <td>...</td>\n",
              "      <td>...</td>\n",
              "    </tr>\n",
              "    <tr>\n",
              "      <th>8727</th>\n",
              "      <td>99812-1-2-0.wav</td>\n",
              "      <td>99812</td>\n",
              "      <td>159.522205</td>\n",
              "      <td>163.522205</td>\n",
              "      <td>2</td>\n",
              "      <td>7</td>\n",
              "      <td>1</td>\n",
              "      <td>car_horn</td>\n",
              "    </tr>\n",
              "    <tr>\n",
              "      <th>8728</th>\n",
              "      <td>99812-1-3-0.wav</td>\n",
              "      <td>99812</td>\n",
              "      <td>181.142431</td>\n",
              "      <td>183.284976</td>\n",
              "      <td>2</td>\n",
              "      <td>7</td>\n",
              "      <td>1</td>\n",
              "      <td>car_horn</td>\n",
              "    </tr>\n",
              "    <tr>\n",
              "      <th>8729</th>\n",
              "      <td>99812-1-4-0.wav</td>\n",
              "      <td>99812</td>\n",
              "      <td>242.691902</td>\n",
              "      <td>246.197885</td>\n",
              "      <td>2</td>\n",
              "      <td>7</td>\n",
              "      <td>1</td>\n",
              "      <td>car_horn</td>\n",
              "    </tr>\n",
              "    <tr>\n",
              "      <th>8730</th>\n",
              "      <td>99812-1-5-0.wav</td>\n",
              "      <td>99812</td>\n",
              "      <td>253.209850</td>\n",
              "      <td>255.741948</td>\n",
              "      <td>2</td>\n",
              "      <td>7</td>\n",
              "      <td>1</td>\n",
              "      <td>car_horn</td>\n",
              "    </tr>\n",
              "    <tr>\n",
              "      <th>8731</th>\n",
              "      <td>99812-1-6-0.wav</td>\n",
              "      <td>99812</td>\n",
              "      <td>332.289233</td>\n",
              "      <td>334.821332</td>\n",
              "      <td>2</td>\n",
              "      <td>7</td>\n",
              "      <td>1</td>\n",
              "      <td>car_horn</td>\n",
              "    </tr>\n",
              "  </tbody>\n",
              "</table>\n",
              "<p>8732 rows × 8 columns</p>\n",
              "</div>\n",
              "    <div class=\"colab-df-buttons\">\n",
              "\n",
              "  <div class=\"colab-df-container\">\n",
              "    <button class=\"colab-df-convert\" onclick=\"convertToInteractive('df-0ce7e064-397e-4282-ab67-2efaebcb1729')\"\n",
              "            title=\"Convert this dataframe to an interactive table.\"\n",
              "            style=\"display:none;\">\n",
              "\n",
              "  <svg xmlns=\"http://www.w3.org/2000/svg\" height=\"24px\" viewBox=\"0 -960 960 960\">\n",
              "    <path d=\"M120-120v-720h720v720H120Zm60-500h600v-160H180v160Zm220 220h160v-160H400v160Zm0 220h160v-160H400v160ZM180-400h160v-160H180v160Zm440 0h160v-160H620v160ZM180-180h160v-160H180v160Zm440 0h160v-160H620v160Z\"/>\n",
              "  </svg>\n",
              "    </button>\n",
              "\n",
              "  <style>\n",
              "    .colab-df-container {\n",
              "      display:flex;\n",
              "      gap: 12px;\n",
              "    }\n",
              "\n",
              "    .colab-df-convert {\n",
              "      background-color: #E8F0FE;\n",
              "      border: none;\n",
              "      border-radius: 50%;\n",
              "      cursor: pointer;\n",
              "      display: none;\n",
              "      fill: #1967D2;\n",
              "      height: 32px;\n",
              "      padding: 0 0 0 0;\n",
              "      width: 32px;\n",
              "    }\n",
              "\n",
              "    .colab-df-convert:hover {\n",
              "      background-color: #E2EBFA;\n",
              "      box-shadow: 0px 1px 2px rgba(60, 64, 67, 0.3), 0px 1px 3px 1px rgba(60, 64, 67, 0.15);\n",
              "      fill: #174EA6;\n",
              "    }\n",
              "\n",
              "    .colab-df-buttons div {\n",
              "      margin-bottom: 4px;\n",
              "    }\n",
              "\n",
              "    [theme=dark] .colab-df-convert {\n",
              "      background-color: #3B4455;\n",
              "      fill: #D2E3FC;\n",
              "    }\n",
              "\n",
              "    [theme=dark] .colab-df-convert:hover {\n",
              "      background-color: #434B5C;\n",
              "      box-shadow: 0px 1px 3px 1px rgba(0, 0, 0, 0.15);\n",
              "      filter: drop-shadow(0px 1px 2px rgba(0, 0, 0, 0.3));\n",
              "      fill: #FFFFFF;\n",
              "    }\n",
              "  </style>\n",
              "\n",
              "    <script>\n",
              "      const buttonEl =\n",
              "        document.querySelector('#df-0ce7e064-397e-4282-ab67-2efaebcb1729 button.colab-df-convert');\n",
              "      buttonEl.style.display =\n",
              "        google.colab.kernel.accessAllowed ? 'block' : 'none';\n",
              "\n",
              "      async function convertToInteractive(key) {\n",
              "        const element = document.querySelector('#df-0ce7e064-397e-4282-ab67-2efaebcb1729');\n",
              "        const dataTable =\n",
              "          await google.colab.kernel.invokeFunction('convertToInteractive',\n",
              "                                                    [key], {});\n",
              "        if (!dataTable) return;\n",
              "\n",
              "        const docLinkHtml = 'Like what you see? Visit the ' +\n",
              "          '<a target=\"_blank\" href=https://colab.research.google.com/notebooks/data_table.ipynb>data table notebook</a>'\n",
              "          + ' to learn more about interactive tables.';\n",
              "        element.innerHTML = '';\n",
              "        dataTable['output_type'] = 'display_data';\n",
              "        await google.colab.output.renderOutput(dataTable, element);\n",
              "        const docLink = document.createElement('div');\n",
              "        docLink.innerHTML = docLinkHtml;\n",
              "        element.appendChild(docLink);\n",
              "      }\n",
              "    </script>\n",
              "  </div>\n",
              "\n",
              "\n",
              "<div id=\"df-ad9eb9eb-31eb-4634-8243-62dc51158c6f\">\n",
              "  <button class=\"colab-df-quickchart\" onclick=\"quickchart('df-ad9eb9eb-31eb-4634-8243-62dc51158c6f')\"\n",
              "            title=\"Suggest charts\"\n",
              "            style=\"display:none;\">\n",
              "\n",
              "<svg xmlns=\"http://www.w3.org/2000/svg\" height=\"24px\"viewBox=\"0 0 24 24\"\n",
              "     width=\"24px\">\n",
              "    <g>\n",
              "        <path d=\"M19 3H5c-1.1 0-2 .9-2 2v14c0 1.1.9 2 2 2h14c1.1 0 2-.9 2-2V5c0-1.1-.9-2-2-2zM9 17H7v-7h2v7zm4 0h-2V7h2v10zm4 0h-2v-4h2v4z\"/>\n",
              "    </g>\n",
              "</svg>\n",
              "  </button>\n",
              "\n",
              "<style>\n",
              "  .colab-df-quickchart {\n",
              "      --bg-color: #E8F0FE;\n",
              "      --fill-color: #1967D2;\n",
              "      --hover-bg-color: #E2EBFA;\n",
              "      --hover-fill-color: #174EA6;\n",
              "      --disabled-fill-color: #AAA;\n",
              "      --disabled-bg-color: #DDD;\n",
              "  }\n",
              "\n",
              "  [theme=dark] .colab-df-quickchart {\n",
              "      --bg-color: #3B4455;\n",
              "      --fill-color: #D2E3FC;\n",
              "      --hover-bg-color: #434B5C;\n",
              "      --hover-fill-color: #FFFFFF;\n",
              "      --disabled-bg-color: #3B4455;\n",
              "      --disabled-fill-color: #666;\n",
              "  }\n",
              "\n",
              "  .colab-df-quickchart {\n",
              "    background-color: var(--bg-color);\n",
              "    border: none;\n",
              "    border-radius: 50%;\n",
              "    cursor: pointer;\n",
              "    display: none;\n",
              "    fill: var(--fill-color);\n",
              "    height: 32px;\n",
              "    padding: 0;\n",
              "    width: 32px;\n",
              "  }\n",
              "\n",
              "  .colab-df-quickchart:hover {\n",
              "    background-color: var(--hover-bg-color);\n",
              "    box-shadow: 0 1px 2px rgba(60, 64, 67, 0.3), 0 1px 3px 1px rgba(60, 64, 67, 0.15);\n",
              "    fill: var(--button-hover-fill-color);\n",
              "  }\n",
              "\n",
              "  .colab-df-quickchart-complete:disabled,\n",
              "  .colab-df-quickchart-complete:disabled:hover {\n",
              "    background-color: var(--disabled-bg-color);\n",
              "    fill: var(--disabled-fill-color);\n",
              "    box-shadow: none;\n",
              "  }\n",
              "\n",
              "  .colab-df-spinner {\n",
              "    border: 2px solid var(--fill-color);\n",
              "    border-color: transparent;\n",
              "    border-bottom-color: var(--fill-color);\n",
              "    animation:\n",
              "      spin 1s steps(1) infinite;\n",
              "  }\n",
              "\n",
              "  @keyframes spin {\n",
              "    0% {\n",
              "      border-color: transparent;\n",
              "      border-bottom-color: var(--fill-color);\n",
              "      border-left-color: var(--fill-color);\n",
              "    }\n",
              "    20% {\n",
              "      border-color: transparent;\n",
              "      border-left-color: var(--fill-color);\n",
              "      border-top-color: var(--fill-color);\n",
              "    }\n",
              "    30% {\n",
              "      border-color: transparent;\n",
              "      border-left-color: var(--fill-color);\n",
              "      border-top-color: var(--fill-color);\n",
              "      border-right-color: var(--fill-color);\n",
              "    }\n",
              "    40% {\n",
              "      border-color: transparent;\n",
              "      border-right-color: var(--fill-color);\n",
              "      border-top-color: var(--fill-color);\n",
              "    }\n",
              "    60% {\n",
              "      border-color: transparent;\n",
              "      border-right-color: var(--fill-color);\n",
              "    }\n",
              "    80% {\n",
              "      border-color: transparent;\n",
              "      border-right-color: var(--fill-color);\n",
              "      border-bottom-color: var(--fill-color);\n",
              "    }\n",
              "    90% {\n",
              "      border-color: transparent;\n",
              "      border-bottom-color: var(--fill-color);\n",
              "    }\n",
              "  }\n",
              "</style>\n",
              "\n",
              "  <script>\n",
              "    async function quickchart(key) {\n",
              "      const quickchartButtonEl =\n",
              "        document.querySelector('#' + key + ' button');\n",
              "      quickchartButtonEl.disabled = true;  // To prevent multiple clicks.\n",
              "      quickchartButtonEl.classList.add('colab-df-spinner');\n",
              "      try {\n",
              "        const charts = await google.colab.kernel.invokeFunction(\n",
              "            'suggestCharts', [key], {});\n",
              "      } catch (error) {\n",
              "        console.error('Error during call to suggestCharts:', error);\n",
              "      }\n",
              "      quickchartButtonEl.classList.remove('colab-df-spinner');\n",
              "      quickchartButtonEl.classList.add('colab-df-quickchart-complete');\n",
              "    }\n",
              "    (() => {\n",
              "      let quickchartButtonEl =\n",
              "        document.querySelector('#df-ad9eb9eb-31eb-4634-8243-62dc51158c6f button');\n",
              "      quickchartButtonEl.style.display =\n",
              "        google.colab.kernel.accessAllowed ? 'block' : 'none';\n",
              "    })();\n",
              "  </script>\n",
              "</div>\n",
              "\n",
              "  <div id=\"id_d7939a53-c156-48a8-8509-b82209afeb2c\">\n",
              "    <style>\n",
              "      .colab-df-generate {\n",
              "        background-color: #E8F0FE;\n",
              "        border: none;\n",
              "        border-radius: 50%;\n",
              "        cursor: pointer;\n",
              "        display: none;\n",
              "        fill: #1967D2;\n",
              "        height: 32px;\n",
              "        padding: 0 0 0 0;\n",
              "        width: 32px;\n",
              "      }\n",
              "\n",
              "      .colab-df-generate:hover {\n",
              "        background-color: #E2EBFA;\n",
              "        box-shadow: 0px 1px 2px rgba(60, 64, 67, 0.3), 0px 1px 3px 1px rgba(60, 64, 67, 0.15);\n",
              "        fill: #174EA6;\n",
              "      }\n",
              "\n",
              "      [theme=dark] .colab-df-generate {\n",
              "        background-color: #3B4455;\n",
              "        fill: #D2E3FC;\n",
              "      }\n",
              "\n",
              "      [theme=dark] .colab-df-generate:hover {\n",
              "        background-color: #434B5C;\n",
              "        box-shadow: 0px 1px 3px 1px rgba(0, 0, 0, 0.15);\n",
              "        filter: drop-shadow(0px 1px 2px rgba(0, 0, 0, 0.3));\n",
              "        fill: #FFFFFF;\n",
              "      }\n",
              "    </style>\n",
              "    <button class=\"colab-df-generate\" onclick=\"generateWithVariable('metadata')\"\n",
              "            title=\"Generate code using this dataframe.\"\n",
              "            style=\"display:none;\">\n",
              "\n",
              "  <svg xmlns=\"http://www.w3.org/2000/svg\" height=\"24px\"viewBox=\"0 0 24 24\"\n",
              "       width=\"24px\">\n",
              "    <path d=\"M7,19H8.4L18.45,9,17,7.55,7,17.6ZM5,21V16.75L18.45,3.32a2,2,0,0,1,2.83,0l1.4,1.43a1.91,1.91,0,0,1,.58,1.4,1.91,1.91,0,0,1-.58,1.4L9.25,21ZM18.45,9,17,7.55Zm-12,3A5.31,5.31,0,0,0,4.9,8.1,5.31,5.31,0,0,0,1,6.5,5.31,5.31,0,0,0,4.9,4.9,5.31,5.31,0,0,0,6.5,1,5.31,5.31,0,0,0,8.1,4.9,5.31,5.31,0,0,0,12,6.5,5.46,5.46,0,0,0,6.5,12Z\"/>\n",
              "  </svg>\n",
              "    </button>\n",
              "    <script>\n",
              "      (() => {\n",
              "      const buttonEl =\n",
              "        document.querySelector('#id_d7939a53-c156-48a8-8509-b82209afeb2c button.colab-df-generate');\n",
              "      buttonEl.style.display =\n",
              "        google.colab.kernel.accessAllowed ? 'block' : 'none';\n",
              "\n",
              "      buttonEl.onclick = () => {\n",
              "        google.colab.notebook.generateWithVariable('metadata');\n",
              "      }\n",
              "      })();\n",
              "    </script>\n",
              "  </div>\n",
              "\n",
              "    </div>\n",
              "  </div>\n"
            ],
            "application/vnd.google.colaboratory.intrinsic+json": {
              "type": "dataframe",
              "variable_name": "metadata",
              "summary": "{\n  \"name\": \"metadata\",\n  \"rows\": 8732,\n  \"fields\": [\n    {\n      \"column\": \"slice_file_name\",\n      \"properties\": {\n        \"dtype\": \"string\",\n        \"num_unique_values\": 8732,\n        \"samples\": [\n          \"54898-8-0-2.wav\",\n          \"172338-9-0-7.wav\",\n          \"95562-4-3-0.wav\"\n        ],\n        \"semantic_type\": \"\",\n        \"description\": \"\"\n      }\n    },\n    {\n      \"column\": \"fsID\",\n      \"properties\": {\n        \"dtype\": \"number\",\n        \"std\": 57991,\n        \"min\": 344,\n        \"max\": 209992,\n        \"num_unique_values\": 1297,\n        \"samples\": [\n          180257,\n          157940,\n          20015\n        ],\n        \"semantic_type\": \"\",\n        \"description\": \"\"\n      }\n    },\n    {\n      \"column\": \"start\",\n      \"properties\": {\n        \"dtype\": \"number\",\n        \"std\": 74.29212630755417,\n        \"min\": 0.0,\n        \"max\": 600.125356,\n        \"num_unique_values\": 4878,\n        \"samples\": [\n          10.038318,\n          5.711988,\n          4.634753\n        ],\n        \"semantic_type\": \"\",\n        \"description\": \"\"\n      }\n    },\n    {\n      \"column\": \"end\",\n      \"properties\": {\n        \"dtype\": \"number\",\n        \"std\": 74.36966935075809,\n        \"min\": 0.105962,\n        \"max\": 604.125356,\n        \"num_unique_values\": 5020,\n        \"samples\": [\n          13.168347,\n          2.653802,\n          10.286916\n        ],\n        \"semantic_type\": \"\",\n        \"description\": \"\"\n      }\n    },\n    {\n      \"column\": \"salience\",\n      \"properties\": {\n        \"dtype\": \"number\",\n        \"std\": 0,\n        \"min\": 1,\n        \"max\": 2,\n        \"num_unique_values\": 2,\n        \"samples\": [\n          2,\n          1\n        ],\n        \"semantic_type\": \"\",\n        \"description\": \"\"\n      }\n    },\n    {\n      \"column\": \"fold\",\n      \"properties\": {\n        \"dtype\": \"number\",\n        \"std\": 2,\n        \"min\": 1,\n        \"max\": 10,\n        \"num_unique_values\": 10,\n        \"samples\": [\n          3,\n          10\n        ],\n        \"semantic_type\": \"\",\n        \"description\": \"\"\n      }\n    },\n    {\n      \"column\": \"classID\",\n      \"properties\": {\n        \"dtype\": \"number\",\n        \"std\": 2,\n        \"min\": 0,\n        \"max\": 9,\n        \"num_unique_values\": 10,\n        \"samples\": [\n          7,\n          2\n        ],\n        \"semantic_type\": \"\",\n        \"description\": \"\"\n      }\n    },\n    {\n      \"column\": \"class\",\n      \"properties\": {\n        \"dtype\": \"category\",\n        \"num_unique_values\": 10,\n        \"samples\": [\n          \"jackhammer\",\n          \"children_playing\"\n        ],\n        \"semantic_type\": \"\",\n        \"description\": \"\"\n      }\n    }\n  ]\n}"
            }
          },
          "metadata": {},
          "execution_count": 5
        }
      ]
    },
    {
      "cell_type": "code",
      "source": [
        "metadata['class'].value_counts()\n",
        "# here we can see the contents of each class"
      ],
      "metadata": {
        "colab": {
          "base_uri": "https://localhost:8080/",
          "height": 429
        },
        "id": "GVyyM-lKjkfj",
        "outputId": "4241c410-22ff-4243-926e-ad137ad387e5"
      },
      "execution_count": 6,
      "outputs": [
        {
          "output_type": "execute_result",
          "data": {
            "text/plain": [
              "class\n",
              "dog_bark            1000\n",
              "children_playing    1000\n",
              "air_conditioner     1000\n",
              "street_music        1000\n",
              "engine_idling       1000\n",
              "jackhammer          1000\n",
              "drilling            1000\n",
              "siren                929\n",
              "car_horn             429\n",
              "gun_shot             374\n",
              "Name: count, dtype: int64"
            ],
            "text/html": [
              "<div>\n",
              "<style scoped>\n",
              "    .dataframe tbody tr th:only-of-type {\n",
              "        vertical-align: middle;\n",
              "    }\n",
              "\n",
              "    .dataframe tbody tr th {\n",
              "        vertical-align: top;\n",
              "    }\n",
              "\n",
              "    .dataframe thead th {\n",
              "        text-align: right;\n",
              "    }\n",
              "</style>\n",
              "<table border=\"1\" class=\"dataframe\">\n",
              "  <thead>\n",
              "    <tr style=\"text-align: right;\">\n",
              "      <th></th>\n",
              "      <th>count</th>\n",
              "    </tr>\n",
              "    <tr>\n",
              "      <th>class</th>\n",
              "      <th></th>\n",
              "    </tr>\n",
              "  </thead>\n",
              "  <tbody>\n",
              "    <tr>\n",
              "      <th>dog_bark</th>\n",
              "      <td>1000</td>\n",
              "    </tr>\n",
              "    <tr>\n",
              "      <th>children_playing</th>\n",
              "      <td>1000</td>\n",
              "    </tr>\n",
              "    <tr>\n",
              "      <th>air_conditioner</th>\n",
              "      <td>1000</td>\n",
              "    </tr>\n",
              "    <tr>\n",
              "      <th>street_music</th>\n",
              "      <td>1000</td>\n",
              "    </tr>\n",
              "    <tr>\n",
              "      <th>engine_idling</th>\n",
              "      <td>1000</td>\n",
              "    </tr>\n",
              "    <tr>\n",
              "      <th>jackhammer</th>\n",
              "      <td>1000</td>\n",
              "    </tr>\n",
              "    <tr>\n",
              "      <th>drilling</th>\n",
              "      <td>1000</td>\n",
              "    </tr>\n",
              "    <tr>\n",
              "      <th>siren</th>\n",
              "      <td>929</td>\n",
              "    </tr>\n",
              "    <tr>\n",
              "      <th>car_horn</th>\n",
              "      <td>429</td>\n",
              "    </tr>\n",
              "    <tr>\n",
              "      <th>gun_shot</th>\n",
              "      <td>374</td>\n",
              "    </tr>\n",
              "  </tbody>\n",
              "</table>\n",
              "</div><br><label><b>dtype:</b> int64</label>"
            ]
          },
          "metadata": {},
          "execution_count": 6
        }
      ]
    },
    {
      "cell_type": "markdown",
      "source": [
        "# Features Extraction"
      ],
      "metadata": {
        "id": "c2rt9KmRULvl"
      }
    },
    {
      "cell_type": "markdown",
      "source": [
        "Extract a log-mel spectrogram for each audio file in the dataset and store it into a Pandas DataFrame along with its class and fold label."
      ],
      "metadata": {
        "id": "nDdu2r8fUY-U"
      }
    },
    {
      "cell_type": "code",
      "source": [
        "import os\n",
        "import librosa\n",
        "import numpy as np\n",
        "from tqdm import tqdm\n",
        "\n",
        "def features_extractor(file):\n",
        "    \"\"\"\n",
        "    Extracts MFCC features from an audio file.\n",
        "\n",
        "    Args:\n",
        "        file (str): The path to the audio file.\n",
        "\n",
        "    Returns:\n",
        "        np.ndarray: The MFCC features.\n",
        "    \"\"\"\n",
        "    try:\n",
        "        audio, sample_rate = librosa.load(file, res_type='kaiser_fast')\n",
        "        mfccs_features = librosa.feature.mfcc(y=audio, sr=sample_rate, n_mfcc=40)\n",
        "\n",
        "        return mfccs_features\n",
        "    except Exception as e:\n",
        "        print(f\"Error processing file {file}: {e}\")\n",
        "        return None\n",
        "\n",
        "\n",
        "def extract_features(metadata, dataset_path):\n",
        "    \"\"\"\n",
        "    Extracts features (MFCCs) from a dataset using metadata.\n",
        "\n",
        "    Args:\n",
        "        metadata (DataFrame): The metadata containing file information.\n",
        "        dataset_path (str): Path to the dataset directory.\n",
        "\n",
        "    Returns:\n",
        "        list: A list of extracted features and corresponding class labels.\n",
        "    \"\"\"\n",
        "    extracted_features = []\n",
        "    for index_num, row in tqdm(metadata.iterrows(), total=metadata.shape[0]):\n",
        "        file_name = os.path.join(dataset_path, 'audio', f'fold{row[\"fold\"]}', row[\"slice_file_name\"])\n",
        "\n",
        "        if os.path.exists(file_name):\n",
        "\n",
        "            features = features_extractor(file_name)\n",
        "\n",
        "            if features is not None:\n",
        "                final_class_labels = row[\"class\"]\n",
        "                extracted_features.append([features, final_class_labels])\n",
        "        else:\n",
        "            print(f\"Warning: File not found: {file_name}\")\n",
        "\n",
        "    return extracted_features\n",
        "# feature extraction of each entry\n",
        "print(\"done\")"
      ],
      "metadata": {
        "colab": {
          "base_uri": "https://localhost:8080/"
        },
        "id": "f-y9aa0bjkn4",
        "outputId": "624450aa-3870-4763-cbf5-7a14abfae2d6"
      },
      "execution_count": 7,
      "outputs": [
        {
          "output_type": "stream",
          "name": "stdout",
          "text": [
            "done\n"
          ]
        }
      ]
    },
    {
      "cell_type": "code",
      "source": [
        "### converting extracted_features to Pandas dataframe\n",
        "import resampy\n",
        "extracted_features = extract_features(metadata, dataset_path)\n",
        "extracted_features_df=pd.DataFrame(extracted_features,columns=['feature','class'])\n",
        "extracted_features_df.head()\n"
      ],
      "metadata": {
        "id": "xkdQHXKGjkqM",
        "colab": {
          "base_uri": "https://localhost:8080/",
          "height": 1000
        },
        "outputId": "bc1596bc-1517-4739-d856-06f1e9c99a11"
      },
      "execution_count": 8,
      "outputs": [
        {
          "output_type": "stream",
          "name": "stderr",
          "text": [
            "  2%|▏         | 171/8732 [00:50<1:14:11,  1.92it/s]"
          ]
        },
        {
          "output_type": "stream",
          "name": "stdout",
          "text": [
            "Warning: File not found: /content/drive/My Drive/UrbanSound8K/UrbanSound8K/audio/fold1/103074-7-0-0.wav\n",
            "Warning: File not found: /content/drive/My Drive/UrbanSound8K/UrbanSound8K/audio/fold1/103074-7-0-1.wav\n",
            "Warning: File not found: /content/drive/My Drive/UrbanSound8K/UrbanSound8K/audio/fold1/103074-7-0-2.wav\n",
            "Warning: File not found: /content/drive/My Drive/UrbanSound8K/UrbanSound8K/audio/fold1/103074-7-1-0.wav\n",
            "Warning: File not found: /content/drive/My Drive/UrbanSound8K/UrbanSound8K/audio/fold1/103074-7-1-1.wav\n",
            "Warning: File not found: /content/drive/My Drive/UrbanSound8K/UrbanSound8K/audio/fold1/103074-7-1-2.wav\n",
            "Warning: File not found: /content/drive/My Drive/UrbanSound8K/UrbanSound8K/audio/fold1/103074-7-1-3.wav\n",
            "Warning: File not found: /content/drive/My Drive/UrbanSound8K/UrbanSound8K/audio/fold1/103074-7-1-4.wav\n",
            "Warning: File not found: /content/drive/My Drive/UrbanSound8K/UrbanSound8K/audio/fold1/103074-7-1-5.wav\n",
            "Warning: File not found: /content/drive/My Drive/UrbanSound8K/UrbanSound8K/audio/fold1/103074-7-1-6.wav\n"
          ]
        },
        {
          "output_type": "stream",
          "name": "stderr",
          "text": [
            "\r  2%|▏         | 182/8732 [00:50<16:36,  8.58it/s]  "
          ]
        },
        {
          "output_type": "stream",
          "name": "stdout",
          "text": [
            "Warning: File not found: /content/drive/My Drive/UrbanSound8K/UrbanSound8K/audio/fold1/103074-7-3-0.wav\n",
            "Warning: File not found: /content/drive/My Drive/UrbanSound8K/UrbanSound8K/audio/fold1/103074-7-3-1.wav\n",
            "Warning: File not found: /content/drive/My Drive/UrbanSound8K/UrbanSound8K/audio/fold1/103074-7-3-2.wav\n",
            "Warning: File not found: /content/drive/My Drive/UrbanSound8K/UrbanSound8K/audio/fold1/103074-7-3-3.wav\n",
            "Warning: File not found: /content/drive/My Drive/UrbanSound8K/UrbanSound8K/audio/fold1/103074-7-4-0.wav\n",
            "Warning: File not found: /content/drive/My Drive/UrbanSound8K/UrbanSound8K/audio/fold1/103074-7-4-1.wav\n",
            "Warning: File not found: /content/drive/My Drive/UrbanSound8K/UrbanSound8K/audio/fold1/103074-7-4-2.wav\n",
            "Warning: File not found: /content/drive/My Drive/UrbanSound8K/UrbanSound8K/audio/fold1/103074-7-4-3.wav\n",
            "Warning: File not found: /content/drive/My Drive/UrbanSound8K/UrbanSound8K/audio/fold1/103074-7-4-4.wav\n",
            "Warning: File not found: /content/drive/My Drive/UrbanSound8K/UrbanSound8K/audio/fold1/103074-7-4-5.wav\n",
            "Warning: File not found: /content/drive/My Drive/UrbanSound8K/UrbanSound8K/audio/fold1/103074-7-4-6.wav\n"
          ]
        },
        {
          "output_type": "stream",
          "name": "stderr",
          "text": [
            "  3%|▎         | 237/8732 [01:16<1:01:10,  2.31it/s]"
          ]
        },
        {
          "output_type": "stream",
          "name": "stdout",
          "text": [
            "Warning: File not found: /content/drive/My Drive/UrbanSound8K/UrbanSound8K/audio/fold1/103258-5-0-0.wav\n",
            "Warning: File not found: /content/drive/My Drive/UrbanSound8K/UrbanSound8K/audio/fold1/103258-5-0-1.wav\n",
            "Warning: File not found: /content/drive/My Drive/UrbanSound8K/UrbanSound8K/audio/fold1/103258-5-0-10.wav\n",
            "Warning: File not found: /content/drive/My Drive/UrbanSound8K/UrbanSound8K/audio/fold1/103258-5-0-11.wav\n",
            "Warning: File not found: /content/drive/My Drive/UrbanSound8K/UrbanSound8K/audio/fold1/103258-5-0-12.wav\n",
            "Warning: File not found: /content/drive/My Drive/UrbanSound8K/UrbanSound8K/audio/fold1/103258-5-0-13.wav\n",
            "Warning: File not found: /content/drive/My Drive/UrbanSound8K/UrbanSound8K/audio/fold1/103258-5-0-14.wav\n",
            "Warning: File not found: /content/drive/My Drive/UrbanSound8K/UrbanSound8K/audio/fold1/103258-5-0-15.wav\n",
            "Warning: File not found: /content/drive/My Drive/UrbanSound8K/UrbanSound8K/audio/fold1/103258-5-0-16.wav\n",
            "Warning: File not found: /content/drive/My Drive/UrbanSound8K/UrbanSound8K/audio/fold1/103258-5-0-17.wav\n",
            "Warning: File not found: /content/drive/My Drive/UrbanSound8K/UrbanSound8K/audio/fold1/103258-5-0-18.wav\n",
            "Warning: File not found: /content/drive/My Drive/UrbanSound8K/UrbanSound8K/audio/fold1/103258-5-0-19.wav\n",
            "Warning: File not found: /content/drive/My Drive/UrbanSound8K/UrbanSound8K/audio/fold1/103258-5-0-2.wav\n",
            "Warning: File not found: /content/drive/My Drive/UrbanSound8K/UrbanSound8K/audio/fold1/103258-5-0-3.wav\n",
            "Warning: File not found: /content/drive/My Drive/UrbanSound8K/UrbanSound8K/audio/fold1/103258-5-0-4.wav\n",
            "Warning: File not found: /content/drive/My Drive/UrbanSound8K/UrbanSound8K/audio/fold1/103258-5-0-5.wav\n",
            "Warning: File not found: /content/drive/My Drive/UrbanSound8K/UrbanSound8K/audio/fold1/103258-5-0-6.wav\n",
            "Warning: File not found: /content/drive/My Drive/UrbanSound8K/UrbanSound8K/audio/fold1/103258-5-0-7.wav\n",
            "Warning: File not found: /content/drive/My Drive/UrbanSound8K/UrbanSound8K/audio/fold1/103258-5-0-8.wav\n",
            "Warning: File not found: /content/drive/My Drive/UrbanSound8K/UrbanSound8K/audio/fold1/103258-5-0-9.wav\n"
          ]
        },
        {
          "output_type": "stream",
          "name": "stderr",
          "text": [
            "  7%|▋         | 569/8732 [03:53<1:06:46,  2.04it/s]"
          ]
        },
        {
          "output_type": "stream",
          "name": "stdout",
          "text": [
            "Warning: File not found: /content/drive/My Drive/UrbanSound8K/UrbanSound8K/audio/fold1/108362-2-0-11.wav\n",
            "Warning: File not found: /content/drive/My Drive/UrbanSound8K/UrbanSound8K/audio/fold1/108362-2-0-12.wav\n",
            "Warning: File not found: /content/drive/My Drive/UrbanSound8K/UrbanSound8K/audio/fold1/108362-2-0-21.wav\n",
            "Warning: File not found: /content/drive/My Drive/UrbanSound8K/UrbanSound8K/audio/fold1/108362-2-0-23.wav\n",
            "Warning: File not found: /content/drive/My Drive/UrbanSound8K/UrbanSound8K/audio/fold1/108362-2-0-29.wav\n",
            "Warning: File not found: /content/drive/My Drive/UrbanSound8K/UrbanSound8K/audio/fold1/108362-2-0-30.wav\n",
            "Warning: File not found: /content/drive/My Drive/UrbanSound8K/UrbanSound8K/audio/fold1/108362-2-0-7.wav\n",
            "Warning: File not found: /content/drive/My Drive/UrbanSound8K/UrbanSound8K/audio/fold1/108362-2-0-9.wav\n"
          ]
        },
        {
          "output_type": "stream",
          "name": "stderr",
          "text": [
            "  8%|▊         | 738/8732 [05:15<56:21,  2.36it/s]  "
          ]
        },
        {
          "output_type": "stream",
          "name": "stdout",
          "text": [
            "Warning: File not found: /content/drive/My Drive/UrbanSound8K/UrbanSound8K/audio/fold1/113205-5-0-0.wav\n",
            "Warning: File not found: /content/drive/My Drive/UrbanSound8K/UrbanSound8K/audio/fold1/113205-5-1-0.wav\n",
            "Warning: File not found: /content/drive/My Drive/UrbanSound8K/UrbanSound8K/audio/fold1/113205-5-1-1.wav\n",
            "Warning: File not found: /content/drive/My Drive/UrbanSound8K/UrbanSound8K/audio/fold1/113205-5-1-2.wav\n",
            "Warning: File not found: /content/drive/My Drive/UrbanSound8K/UrbanSound8K/audio/fold1/113205-5-1-3.wav\n",
            "Warning: File not found: /content/drive/My Drive/UrbanSound8K/UrbanSound8K/audio/fold1/113205-5-1-4.wav\n",
            "Warning: File not found: /content/drive/My Drive/UrbanSound8K/UrbanSound8K/audio/fold1/113205-5-1-5.wav\n",
            "Warning: File not found: /content/drive/My Drive/UrbanSound8K/UrbanSound8K/audio/fold1/113205-5-1-6.wav\n",
            "Warning: File not found: /content/drive/My Drive/UrbanSound8K/UrbanSound8K/audio/fold1/113205-5-1-7.wav\n",
            "Warning: File not found: /content/drive/My Drive/UrbanSound8K/UrbanSound8K/audio/fold1/113205-5-1-8.wav\n",
            "Warning: File not found: /content/drive/My Drive/UrbanSound8K/UrbanSound8K/audio/fold1/113205-5-1-9.wav\n"
          ]
        },
        {
          "output_type": "stream",
          "name": "stderr",
          "text": [
            "  9%|▉         | 808/8732 [05:43<1:03:47,  2.07it/s]"
          ]
        },
        {
          "output_type": "stream",
          "name": "stdout",
          "text": [
            "Warning: File not found: /content/drive/My Drive/UrbanSound8K/UrbanSound8K/audio/fold10/115418-9-0-11.wav\n",
            "Warning: File not found: /content/drive/My Drive/UrbanSound8K/UrbanSound8K/audio/fold10/115418-9-0-12.wav\n",
            "Warning: File not found: /content/drive/My Drive/UrbanSound8K/UrbanSound8K/audio/fold10/115418-9-0-15.wav\n",
            "Warning: File not found: /content/drive/My Drive/UrbanSound8K/UrbanSound8K/audio/fold10/115418-9-0-20.wav\n",
            "Warning: File not found: /content/drive/My Drive/UrbanSound8K/UrbanSound8K/audio/fold10/115418-9-0-29.wav\n",
            "Warning: File not found: /content/drive/My Drive/UrbanSound8K/UrbanSound8K/audio/fold10/115418-9-0-6.wav\n"
          ]
        },
        {
          "output_type": "stream",
          "name": "stderr",
          "text": [
            " 11%|█         | 939/8732 [06:41<55:09,  2.35it/s]"
          ]
        },
        {
          "output_type": "stream",
          "name": "stdout",
          "text": [
            "Warning: File not found: /content/drive/My Drive/UrbanSound8K/UrbanSound8K/audio/fold10/119067-0-0-0.wav\n",
            "Warning: File not found: /content/drive/My Drive/UrbanSound8K/UrbanSound8K/audio/fold10/119067-0-0-1.wav\n",
            "Warning: File not found: /content/drive/My Drive/UrbanSound8K/UrbanSound8K/audio/fold10/119067-0-0-2.wav\n"
          ]
        },
        {
          "output_type": "stream",
          "name": "stderr",
          "text": [
            " 11%|█         | 951/8732 [06:45<53:56,  2.40it/s]"
          ]
        },
        {
          "output_type": "stream",
          "name": "stdout",
          "text": [
            "Warning: File not found: /content/drive/My Drive/UrbanSound8K/UrbanSound8K/audio/fold1/119455-5-0-0.wav\n",
            "Warning: File not found: /content/drive/My Drive/UrbanSound8K/UrbanSound8K/audio/fold1/119455-5-0-1.wav\n",
            "Warning: File not found: /content/drive/My Drive/UrbanSound8K/UrbanSound8K/audio/fold1/119455-5-0-2.wav\n",
            "Warning: File not found: /content/drive/My Drive/UrbanSound8K/UrbanSound8K/audio/fold1/119455-5-0-3.wav\n",
            "Warning: File not found: /content/drive/My Drive/UrbanSound8K/UrbanSound8K/audio/fold1/119455-5-0-4.wav\n",
            "Warning: File not found: /content/drive/My Drive/UrbanSound8K/UrbanSound8K/audio/fold1/119455-5-0-5.wav\n",
            "Warning: File not found: /content/drive/My Drive/UrbanSound8K/UrbanSound8K/audio/fold1/119455-5-0-6.wav\n",
            "Warning: File not found: /content/drive/My Drive/UrbanSound8K/UrbanSound8K/audio/fold1/119455-5-0-7.wav\n"
          ]
        },
        {
          "output_type": "stream",
          "name": "stderr",
          "text": [
            " 14%|█▎        | 1199/8732 [08:41<1:04:17,  1.95it/s]"
          ]
        },
        {
          "output_type": "stream",
          "name": "stdout",
          "text": [
            "Warning: File not found: /content/drive/My Drive/UrbanSound8K/UrbanSound8K/audio/fold10/128240-3-0-1.wav\n",
            "Warning: File not found: /content/drive/My Drive/UrbanSound8K/UrbanSound8K/audio/fold10/128240-3-0-20.wav\n",
            "Warning: File not found: /content/drive/My Drive/UrbanSound8K/UrbanSound8K/audio/fold10/128240-3-0-39.wav\n",
            "Warning: File not found: /content/drive/My Drive/UrbanSound8K/UrbanSound8K/audio/fold10/128240-3-0-42.wav\n"
          ]
        },
        {
          "output_type": "stream",
          "name": "stderr",
          "text": [
            " 14%|█▍        | 1212/8732 [08:45<1:05:06,  1.93it/s]"
          ]
        },
        {
          "output_type": "stream",
          "name": "stdout",
          "text": [
            "Warning: File not found: /content/drive/My Drive/UrbanSound8K/UrbanSound8K/audio/fold10/128470-3-0-0.wav\n",
            "Warning: File not found: /content/drive/My Drive/UrbanSound8K/UrbanSound8K/audio/fold10/128470-3-0-1.wav\n",
            "Warning: File not found: /content/drive/My Drive/UrbanSound8K/UrbanSound8K/audio/fold10/128470-3-0-5.wav\n",
            "Warning: File not found: /content/drive/My Drive/UrbanSound8K/UrbanSound8K/audio/fold10/128470-3-0-8.wav\n"
          ]
        },
        {
          "output_type": "stream",
          "name": "stderr",
          "text": [
            " 17%|█▋        | 1497/8732 [11:04<49:31,  2.43it/s]"
          ]
        },
        {
          "output_type": "stream",
          "name": "stdout",
          "text": [
            "Warning: File not found: /content/drive/My Drive/UrbanSound8K/UrbanSound8K/audio/fold1/135776-2-0-32.wav\n",
            "Warning: File not found: /content/drive/My Drive/UrbanSound8K/UrbanSound8K/audio/fold1/135776-2-0-37.wav\n",
            "Warning: File not found: /content/drive/My Drive/UrbanSound8K/UrbanSound8K/audio/fold1/135776-2-0-40.wav\n",
            "Warning: File not found: /content/drive/My Drive/UrbanSound8K/UrbanSound8K/audio/fold1/135776-2-0-49.wav\n",
            "Warning: File not found: /content/drive/My Drive/UrbanSound8K/UrbanSound8K/audio/fold1/135776-2-0-50.wav\n",
            "Warning: File not found: /content/drive/My Drive/UrbanSound8K/UrbanSound8K/audio/fold1/135776-2-0-65.wav\n",
            "Warning: File not found: /content/drive/My Drive/UrbanSound8K/UrbanSound8K/audio/fold1/135776-2-0-85.wav\n",
            "Warning: File not found: /content/drive/My Drive/UrbanSound8K/UrbanSound8K/audio/fold1/135776-2-0-90.wav\n"
          ]
        },
        {
          "output_type": "stream",
          "name": "stderr",
          "text": [
            " 17%|█▋        | 1524/8732 [11:13<49:31,  2.43it/s]"
          ]
        },
        {
          "output_type": "stream",
          "name": "stdout",
          "text": [
            "Warning: File not found: /content/drive/My Drive/UrbanSound8K/UrbanSound8K/audio/fold10/136558-9-0-1.wav\n",
            "Warning: File not found: /content/drive/My Drive/UrbanSound8K/UrbanSound8K/audio/fold10/136558-9-0-2.wav\n",
            "Warning: File not found: /content/drive/My Drive/UrbanSound8K/UrbanSound8K/audio/fold10/136558-9-1-10.wav\n",
            "Warning: File not found: /content/drive/My Drive/UrbanSound8K/UrbanSound8K/audio/fold10/136558-9-1-21.wav\n",
            "Warning: File not found: /content/drive/My Drive/UrbanSound8K/UrbanSound8K/audio/fold10/136558-9-1-26.wav\n",
            "Warning: File not found: /content/drive/My Drive/UrbanSound8K/UrbanSound8K/audio/fold10/136558-9-1-39.wav\n",
            "Warning: File not found: /content/drive/My Drive/UrbanSound8K/UrbanSound8K/audio/fold1/137156-9-0-28.wav\n",
            "Warning: File not found: /content/drive/My Drive/UrbanSound8K/UrbanSound8K/audio/fold1/137156-9-0-30.wav\n",
            "Warning: File not found: /content/drive/My Drive/UrbanSound8K/UrbanSound8K/audio/fold1/137156-9-0-31.wav\n",
            "Warning: File not found: /content/drive/My Drive/UrbanSound8K/UrbanSound8K/audio/fold1/137156-9-0-5.wav\n",
            "Warning: File not found: /content/drive/My Drive/UrbanSound8K/UrbanSound8K/audio/fold1/137156-9-0-73.wav\n",
            "Warning: File not found: /content/drive/My Drive/UrbanSound8K/UrbanSound8K/audio/fold1/137156-9-0-79.wav\n"
          ]
        },
        {
          "output_type": "stream",
          "name": "stderr",
          "text": [
            " 22%|██▏       | 1949/8732 [14:41<1:24:48,  1.33it/s]"
          ]
        },
        {
          "output_type": "stream",
          "name": "stdout",
          "text": [
            "Warning: File not found: /content/drive/My Drive/UrbanSound8K/UrbanSound8K/audio/fold10/147491-9-0-0.wav\n",
            "Warning: File not found: /content/drive/My Drive/UrbanSound8K/UrbanSound8K/audio/fold10/147491-9-0-5.wav\n",
            "Warning: File not found: /content/drive/My Drive/UrbanSound8K/UrbanSound8K/audio/fold10/147491-9-2-10.wav\n",
            "Warning: File not found: /content/drive/My Drive/UrbanSound8K/UrbanSound8K/audio/fold10/147491-9-2-25.wav\n",
            "Warning: File not found: /content/drive/My Drive/UrbanSound8K/UrbanSound8K/audio/fold10/147491-9-2-32.wav\n",
            "Warning: File not found: /content/drive/My Drive/UrbanSound8K/UrbanSound8K/audio/fold10/147491-9-2-6.wav\n"
          ]
        },
        {
          "output_type": "stream",
          "name": "stderr",
          "text": [
            " 25%|██▌       | 2213/8732 [16:51<44:51,  2.42it/s]"
          ]
        },
        {
          "output_type": "stream",
          "name": "stdout",
          "text": [
            "Warning: File not found: /content/drive/My Drive/UrbanSound8K/UrbanSound8K/audio/fold1/155202-9-0-124.wav\n",
            "Warning: File not found: /content/drive/My Drive/UrbanSound8K/UrbanSound8K/audio/fold1/155202-9-0-126.wav\n",
            "Warning: File not found: /content/drive/My Drive/UrbanSound8K/UrbanSound8K/audio/fold1/155202-9-0-135.wav\n",
            "Warning: File not found: /content/drive/My Drive/UrbanSound8K/UrbanSound8K/audio/fold1/155202-9-0-38.wav\n",
            "Warning: File not found: /content/drive/My Drive/UrbanSound8K/UrbanSound8K/audio/fold1/155202-9-0-42.wav\n",
            "Warning: File not found: /content/drive/My Drive/UrbanSound8K/UrbanSound8K/audio/fold1/155202-9-0-6.wav\n"
          ]
        },
        {
          "output_type": "stream",
          "name": "stderr",
          "text": [
            " 26%|██▌       | 2254/8732 [17:08<55:36,  1.94it/s]"
          ]
        },
        {
          "output_type": "stream",
          "name": "stdout",
          "text": [
            "Warning: File not found: /content/drive/My Drive/UrbanSound8K/UrbanSound8K/audio/fold10/155241-9-0-50.wav\n",
            "Warning: File not found: /content/drive/My Drive/UrbanSound8K/UrbanSound8K/audio/fold10/155241-9-0-56.wav\n",
            "Warning: File not found: /content/drive/My Drive/UrbanSound8K/UrbanSound8K/audio/fold10/155241-9-0-69.wav\n",
            "Warning: File not found: /content/drive/My Drive/UrbanSound8K/UrbanSound8K/audio/fold10/155241-9-0-79.wav\n",
            "Warning: File not found: /content/drive/My Drive/UrbanSound8K/UrbanSound8K/audio/fold10/155241-9-0-8.wav\n",
            "Warning: File not found: /content/drive/My Drive/UrbanSound8K/UrbanSound8K/audio/fold10/155241-9-0-88.wav\n"
          ]
        },
        {
          "output_type": "stream",
          "name": "stderr",
          "text": [
            " 26%|██▌       | 2272/8732 [17:14<49:27,  2.18it/s]"
          ]
        },
        {
          "output_type": "stream",
          "name": "stdout",
          "text": [
            "Warning: File not found: /content/drive/My Drive/UrbanSound8K/UrbanSound8K/audio/fold10/155262-2-0-101.wav\n",
            "Warning: File not found: /content/drive/My Drive/UrbanSound8K/UrbanSound8K/audio/fold10/155262-2-0-11.wav\n",
            "Warning: File not found: /content/drive/My Drive/UrbanSound8K/UrbanSound8K/audio/fold10/155262-2-0-15.wav\n",
            "Warning: File not found: /content/drive/My Drive/UrbanSound8K/UrbanSound8K/audio/fold10/155262-2-0-2.wav\n",
            "Warning: File not found: /content/drive/My Drive/UrbanSound8K/UrbanSound8K/audio/fold10/155262-2-0-21.wav\n",
            "Warning: File not found: /content/drive/My Drive/UrbanSound8K/UrbanSound8K/audio/fold10/155262-2-0-48.wav\n",
            "Warning: File not found: /content/drive/My Drive/UrbanSound8K/UrbanSound8K/audio/fold10/155262-2-0-58.wav\n",
            "Warning: File not found: /content/drive/My Drive/UrbanSound8K/UrbanSound8K/audio/fold10/155262-2-0-63.wav\n"
          ]
        },
        {
          "output_type": "stream",
          "name": "stderr",
          "text": [
            " 26%|██▌       | 2288/8732 [17:17<38:39,  2.78it/s]"
          ]
        },
        {
          "output_type": "stream",
          "name": "stdout",
          "text": [
            "Warning: File not found: /content/drive/My Drive/UrbanSound8K/UrbanSound8K/audio/fold10/155280-2-0-10.wav\n",
            "Warning: File not found: /content/drive/My Drive/UrbanSound8K/UrbanSound8K/audio/fold10/155280-2-0-11.wav\n",
            "Warning: File not found: /content/drive/My Drive/UrbanSound8K/UrbanSound8K/audio/fold10/155280-2-0-13.wav\n",
            "Warning: File not found: /content/drive/My Drive/UrbanSound8K/UrbanSound8K/audio/fold10/155280-2-0-15.wav\n",
            "Warning: File not found: /content/drive/My Drive/UrbanSound8K/UrbanSound8K/audio/fold10/155280-2-0-3.wav\n",
            "Warning: File not found: /content/drive/My Drive/UrbanSound8K/UrbanSound8K/audio/fold10/155280-2-0-5.wav\n",
            "Warning: File not found: /content/drive/My Drive/UrbanSound8K/UrbanSound8K/audio/fold10/155280-2-0-6.wav\n",
            "Warning: File not found: /content/drive/My Drive/UrbanSound8K/UrbanSound8K/audio/fold10/155280-2-0-7.wav\n"
          ]
        },
        {
          "output_type": "stream",
          "name": "stderr",
          "text": [
            " 27%|██▋       | 2314/8732 [17:25<41:56,  2.55it/s]"
          ]
        },
        {
          "output_type": "stream",
          "name": "stdout",
          "text": [
            "Warning: File not found: /content/drive/My Drive/UrbanSound8K/UrbanSound8K/audio/fold10/15544-5-0-0.wav\n",
            "Warning: File not found: /content/drive/My Drive/UrbanSound8K/UrbanSound8K/audio/fold10/15544-5-0-1.wav\n",
            "Warning: File not found: /content/drive/My Drive/UrbanSound8K/UrbanSound8K/audio/fold10/15544-5-0-10.wav\n",
            "Warning: File not found: /content/drive/My Drive/UrbanSound8K/UrbanSound8K/audio/fold10/15544-5-0-11.wav\n",
            "Warning: File not found: /content/drive/My Drive/UrbanSound8K/UrbanSound8K/audio/fold10/15544-5-0-12.wav\n",
            "Warning: File not found: /content/drive/My Drive/UrbanSound8K/UrbanSound8K/audio/fold10/15544-5-0-13.wav\n",
            "Warning: File not found: /content/drive/My Drive/UrbanSound8K/UrbanSound8K/audio/fold10/15544-5-0-14.wav\n",
            "Warning: File not found: /content/drive/My Drive/UrbanSound8K/UrbanSound8K/audio/fold10/15544-5-0-15.wav\n",
            "Warning: File not found: /content/drive/My Drive/UrbanSound8K/UrbanSound8K/audio/fold10/15544-5-0-16.wav\n",
            "Warning: File not found: /content/drive/My Drive/UrbanSound8K/UrbanSound8K/audio/fold10/15544-5-0-17.wav\n",
            "Warning: File not found: /content/drive/My Drive/UrbanSound8K/UrbanSound8K/audio/fold10/15544-5-0-18.wav\n",
            "Warning: File not found: /content/drive/My Drive/UrbanSound8K/UrbanSound8K/audio/fold10/15544-5-0-19.wav\n",
            "Warning: File not found: /content/drive/My Drive/UrbanSound8K/UrbanSound8K/audio/fold10/15544-5-0-2.wav\n",
            "Warning: File not found: /content/drive/My Drive/UrbanSound8K/UrbanSound8K/audio/fold10/15544-5-0-3.wav\n",
            "Warning: File not found: /content/drive/My Drive/UrbanSound8K/UrbanSound8K/audio/fold10/15544-5-0-4.wav\n",
            "Warning: File not found: /content/drive/My Drive/UrbanSound8K/UrbanSound8K/audio/fold10/15544-5-0-5.wav\n",
            "Warning: File not found: /content/drive/My Drive/UrbanSound8K/UrbanSound8K/audio/fold10/15544-5-0-6.wav\n",
            "Warning: File not found: /content/drive/My Drive/UrbanSound8K/UrbanSound8K/audio/fold10/15544-5-0-7.wav\n",
            "Warning: File not found: /content/drive/My Drive/UrbanSound8K/UrbanSound8K/audio/fold10/15544-5-0-8.wav\n",
            "Warning: File not found: /content/drive/My Drive/UrbanSound8K/UrbanSound8K/audio/fold10/15544-5-0-9.wav\n"
          ]
        },
        {
          "output_type": "stream",
          "name": "stderr",
          "text": [
            " 30%|███       | 2621/8732 [19:40<47:06,  2.16it/s]"
          ]
        },
        {
          "output_type": "stream",
          "name": "stdout",
          "text": [
            "Warning: File not found: /content/drive/My Drive/UrbanSound8K/UrbanSound8K/audio/fold1/159738-8-0-0.wav\n",
            "Warning: File not found: /content/drive/My Drive/UrbanSound8K/UrbanSound8K/audio/fold1/159738-8-0-1.wav\n",
            "Warning: File not found: /content/drive/My Drive/UrbanSound8K/UrbanSound8K/audio/fold1/159738-8-0-10.wav\n",
            "Warning: File not found: /content/drive/My Drive/UrbanSound8K/UrbanSound8K/audio/fold1/159738-8-0-11.wav\n",
            "Warning: File not found: /content/drive/My Drive/UrbanSound8K/UrbanSound8K/audio/fold1/159738-8-0-12.wav\n",
            "Warning: File not found: /content/drive/My Drive/UrbanSound8K/UrbanSound8K/audio/fold1/159738-8-0-13.wav\n",
            "Warning: File not found: /content/drive/My Drive/UrbanSound8K/UrbanSound8K/audio/fold1/159738-8-0-14.wav\n",
            "Warning: File not found: /content/drive/My Drive/UrbanSound8K/UrbanSound8K/audio/fold1/159738-8-0-15.wav\n",
            "Warning: File not found: /content/drive/My Drive/UrbanSound8K/UrbanSound8K/audio/fold1/159738-8-0-16.wav\n",
            "Warning: File not found: /content/drive/My Drive/UrbanSound8K/UrbanSound8K/audio/fold1/159738-8-0-17.wav\n",
            "Warning: File not found: /content/drive/My Drive/UrbanSound8K/UrbanSound8K/audio/fold1/159738-8-0-18.wav\n",
            "Warning: File not found: /content/drive/My Drive/UrbanSound8K/UrbanSound8K/audio/fold1/159738-8-0-19.wav\n",
            "Warning: File not found: /content/drive/My Drive/UrbanSound8K/UrbanSound8K/audio/fold1/159738-8-0-2.wav\n",
            "Warning: File not found: /content/drive/My Drive/UrbanSound8K/UrbanSound8K/audio/fold1/159738-8-0-3.wav\n",
            "Warning: File not found: /content/drive/My Drive/UrbanSound8K/UrbanSound8K/audio/fold1/159738-8-0-4.wav\n",
            "Warning: File not found: /content/drive/My Drive/UrbanSound8K/UrbanSound8K/audio/fold1/159738-8-0-5.wav\n",
            "Warning: File not found: /content/drive/My Drive/UrbanSound8K/UrbanSound8K/audio/fold1/159738-8-0-6.wav\n",
            "Warning: File not found: /content/drive/My Drive/UrbanSound8K/UrbanSound8K/audio/fold1/159738-8-0-7.wav\n",
            "Warning: File not found: /content/drive/My Drive/UrbanSound8K/UrbanSound8K/audio/fold1/159738-8-0-8.wav\n",
            "Warning: File not found: /content/drive/My Drive/UrbanSound8K/UrbanSound8K/audio/fold1/159738-8-0-9.wav\n",
            "Warning: File not found: /content/drive/My Drive/UrbanSound8K/UrbanSound8K/audio/fold10/159742-8-0-0.wav\n",
            "Warning: File not found: /content/drive/My Drive/UrbanSound8K/UrbanSound8K/audio/fold10/159742-8-0-1.wav\n",
            "Warning: File not found: /content/drive/My Drive/UrbanSound8K/UrbanSound8K/audio/fold10/159742-8-0-10.wav\n",
            "Warning: File not found: /content/drive/My Drive/UrbanSound8K/UrbanSound8K/audio/fold10/159742-8-0-11.wav\n",
            "Warning: File not found: /content/drive/My Drive/UrbanSound8K/UrbanSound8K/audio/fold10/159742-8-0-12.wav\n",
            "Warning: File not found: /content/drive/My Drive/UrbanSound8K/UrbanSound8K/audio/fold10/159742-8-0-13.wav\n",
            "Warning: File not found: /content/drive/My Drive/UrbanSound8K/UrbanSound8K/audio/fold10/159742-8-0-14.wav\n",
            "Warning: File not found: /content/drive/My Drive/UrbanSound8K/UrbanSound8K/audio/fold10/159742-8-0-2.wav\n",
            "Warning: File not found: /content/drive/My Drive/UrbanSound8K/UrbanSound8K/audio/fold10/159742-8-0-3.wav\n",
            "Warning: File not found: /content/drive/My Drive/UrbanSound8K/UrbanSound8K/audio/fold10/159742-8-0-4.wav\n",
            "Warning: File not found: /content/drive/My Drive/UrbanSound8K/UrbanSound8K/audio/fold10/159742-8-0-5.wav\n",
            "Warning: File not found: /content/drive/My Drive/UrbanSound8K/UrbanSound8K/audio/fold10/159742-8-0-6.wav\n",
            "Warning: File not found: /content/drive/My Drive/UrbanSound8K/UrbanSound8K/audio/fold10/159742-8-0-7.wav\n",
            "Warning: File not found: /content/drive/My Drive/UrbanSound8K/UrbanSound8K/audio/fold10/159742-8-0-8.wav\n",
            "Warning: File not found: /content/drive/My Drive/UrbanSound8K/UrbanSound8K/audio/fold10/159742-8-0-9.wav\n"
          ]
        },
        {
          "output_type": "stream",
          "name": "stderr",
          "text": [
            " 32%|███▏      | 2796/8732 [20:51<44:42,  2.21it/s]"
          ]
        },
        {
          "output_type": "stream",
          "name": "stdout",
          "text": [
            "Warning: File not found: /content/drive/My Drive/UrbanSound8K/UrbanSound8K/audio/fold1/160009-2-0-1.wav\n",
            "Warning: File not found: /content/drive/My Drive/UrbanSound8K/UrbanSound8K/audio/fold1/160009-2-0-11.wav\n",
            "Warning: File not found: /content/drive/My Drive/UrbanSound8K/UrbanSound8K/audio/fold1/160009-2-0-22.wav\n",
            "Warning: File not found: /content/drive/My Drive/UrbanSound8K/UrbanSound8K/audio/fold1/160009-2-0-30.wav\n",
            "Warning: File not found: /content/drive/My Drive/UrbanSound8K/UrbanSound8K/audio/fold1/160009-2-0-31.wav\n",
            "Warning: File not found: /content/drive/My Drive/UrbanSound8K/UrbanSound8K/audio/fold1/160009-2-0-47.wav\n",
            "Warning: File not found: /content/drive/My Drive/UrbanSound8K/UrbanSound8K/audio/fold1/160009-2-0-5.wav\n",
            "Warning: File not found: /content/drive/My Drive/UrbanSound8K/UrbanSound8K/audio/fold1/160009-2-0-50.wav\n"
          ]
        },
        {
          "output_type": "stream",
          "name": "stderr",
          "text": [
            " 33%|███▎      | 2900/8732 [21:42<45:59,  2.11it/s]"
          ]
        },
        {
          "output_type": "stream",
          "name": "stdout",
          "text": [
            "Warning: File not found: /content/drive/My Drive/UrbanSound8K/UrbanSound8K/audio/fold10/162134-7-0-0.wav\n",
            "Warning: File not found: /content/drive/My Drive/UrbanSound8K/UrbanSound8K/audio/fold10/162134-7-0-1.wav\n",
            "Warning: File not found: /content/drive/My Drive/UrbanSound8K/UrbanSound8K/audio/fold10/162134-7-0-2.wav\n",
            "Warning: File not found: /content/drive/My Drive/UrbanSound8K/UrbanSound8K/audio/fold10/162134-7-1-0.wav\n",
            "Warning: File not found: /content/drive/My Drive/UrbanSound8K/UrbanSound8K/audio/fold10/162134-7-10-0.wav\n",
            "Warning: File not found: /content/drive/My Drive/UrbanSound8K/UrbanSound8K/audio/fold10/162134-7-10-1.wav\n",
            "Warning: File not found: /content/drive/My Drive/UrbanSound8K/UrbanSound8K/audio/fold10/162134-7-10-2.wav\n",
            "Warning: File not found: /content/drive/My Drive/UrbanSound8K/UrbanSound8K/audio/fold10/162134-7-10-3.wav\n",
            "Warning: File not found: /content/drive/My Drive/UrbanSound8K/UrbanSound8K/audio/fold10/162134-7-11-0.wav\n",
            "Warning: File not found: /content/drive/My Drive/UrbanSound8K/UrbanSound8K/audio/fold10/162134-7-11-1.wav\n",
            "Warning: File not found: /content/drive/My Drive/UrbanSound8K/UrbanSound8K/audio/fold10/162134-7-11-2.wav\n",
            "Warning: File not found: /content/drive/My Drive/UrbanSound8K/UrbanSound8K/audio/fold10/162134-7-11-3.wav\n",
            "Warning: File not found: /content/drive/My Drive/UrbanSound8K/UrbanSound8K/audio/fold10/162134-7-11-4.wav\n",
            "Warning: File not found: /content/drive/My Drive/UrbanSound8K/UrbanSound8K/audio/fold10/162134-7-11-5.wav\n",
            "Warning: File not found: /content/drive/My Drive/UrbanSound8K/UrbanSound8K/audio/fold10/162134-7-11-6.wav\n",
            "Warning: File not found: /content/drive/My Drive/UrbanSound8K/UrbanSound8K/audio/fold10/162134-7-11-7.wav\n",
            "Warning: File not found: /content/drive/My Drive/UrbanSound8K/UrbanSound8K/audio/fold10/162134-7-12-0.wav\n",
            "Warning: File not found: /content/drive/My Drive/UrbanSound8K/UrbanSound8K/audio/fold10/162134-7-12-1.wav\n",
            "Warning: File not found: /content/drive/My Drive/UrbanSound8K/UrbanSound8K/audio/fold10/162134-7-12-2.wav\n",
            "Warning: File not found: /content/drive/My Drive/UrbanSound8K/UrbanSound8K/audio/fold10/162134-7-12-3.wav\n",
            "Warning: File not found: /content/drive/My Drive/UrbanSound8K/UrbanSound8K/audio/fold10/162134-7-12-4.wav\n",
            "Warning: File not found: /content/drive/My Drive/UrbanSound8K/UrbanSound8K/audio/fold10/162134-7-13-0.wav\n",
            "Warning: File not found: /content/drive/My Drive/UrbanSound8K/UrbanSound8K/audio/fold10/162134-7-13-1.wav\n",
            "Warning: File not found: /content/drive/My Drive/UrbanSound8K/UrbanSound8K/audio/fold10/162134-7-13-2.wav\n",
            "Warning: File not found: /content/drive/My Drive/UrbanSound8K/UrbanSound8K/audio/fold10/162134-7-13-3.wav\n",
            "Warning: File not found: /content/drive/My Drive/UrbanSound8K/UrbanSound8K/audio/fold10/162134-7-13-4.wav\n",
            "Warning: File not found: /content/drive/My Drive/UrbanSound8K/UrbanSound8K/audio/fold10/162134-7-14-0.wav\n",
            "Warning: File not found: /content/drive/My Drive/UrbanSound8K/UrbanSound8K/audio/fold10/162134-7-14-1.wav\n",
            "Warning: File not found: /content/drive/My Drive/UrbanSound8K/UrbanSound8K/audio/fold10/162134-7-14-2.wav\n",
            "Warning: File not found: /content/drive/My Drive/UrbanSound8K/UrbanSound8K/audio/fold10/162134-7-15-0.wav\n",
            "Warning: File not found: /content/drive/My Drive/UrbanSound8K/UrbanSound8K/audio/fold10/162134-7-15-1.wav\n",
            "Warning: File not found: /content/drive/My Drive/UrbanSound8K/UrbanSound8K/audio/fold10/162134-7-15-2.wav\n",
            "Warning: File not found: /content/drive/My Drive/UrbanSound8K/UrbanSound8K/audio/fold10/162134-7-15-3.wav\n",
            "Warning: File not found: /content/drive/My Drive/UrbanSound8K/UrbanSound8K/audio/fold10/162134-7-15-4.wav\n",
            "Warning: File not found: /content/drive/My Drive/UrbanSound8K/UrbanSound8K/audio/fold10/162134-7-16-0.wav\n",
            "Warning: File not found: /content/drive/My Drive/UrbanSound8K/UrbanSound8K/audio/fold10/162134-7-16-1.wav\n",
            "Warning: File not found: /content/drive/My Drive/UrbanSound8K/UrbanSound8K/audio/fold10/162134-7-17-0.wav\n",
            "Warning: File not found: /content/drive/My Drive/UrbanSound8K/UrbanSound8K/audio/fold10/162134-7-17-1.wav\n",
            "Warning: File not found: /content/drive/My Drive/UrbanSound8K/UrbanSound8K/audio/fold10/162134-7-17-2.wav\n",
            "Warning: File not found: /content/drive/My Drive/UrbanSound8K/UrbanSound8K/audio/fold10/162134-7-17-3.wav\n",
            "Warning: File not found: /content/drive/My Drive/UrbanSound8K/UrbanSound8K/audio/fold10/162134-7-17-4.wav\n",
            "Warning: File not found: /content/drive/My Drive/UrbanSound8K/UrbanSound8K/audio/fold10/162134-7-2-0.wav\n",
            "Warning: File not found: /content/drive/My Drive/UrbanSound8K/UrbanSound8K/audio/fold10/162134-7-3-0.wav\n",
            "Warning: File not found: /content/drive/My Drive/UrbanSound8K/UrbanSound8K/audio/fold10/162134-7-4-0.wav\n",
            "Warning: File not found: /content/drive/My Drive/UrbanSound8K/UrbanSound8K/audio/fold10/162134-7-5-0.wav\n"
          ]
        },
        {
          "output_type": "stream",
          "name": "stderr",
          "text": [
            "\r 34%|███▎      | 2946/8732 [21:43<03:14, 29.77it/s]"
          ]
        },
        {
          "output_type": "stream",
          "name": "stdout",
          "text": [
            "Warning: File not found: /content/drive/My Drive/UrbanSound8K/UrbanSound8K/audio/fold10/162134-7-7-0.wav\n",
            "Warning: File not found: /content/drive/My Drive/UrbanSound8K/UrbanSound8K/audio/fold10/162134-7-7-1.wav\n",
            "Warning: File not found: /content/drive/My Drive/UrbanSound8K/UrbanSound8K/audio/fold10/162134-7-8-0.wav\n",
            "Warning: File not found: /content/drive/My Drive/UrbanSound8K/UrbanSound8K/audio/fold10/162134-7-8-1.wav\n",
            "Warning: File not found: /content/drive/My Drive/UrbanSound8K/UrbanSound8K/audio/fold10/162134-7-8-2.wav\n",
            "Warning: File not found: /content/drive/My Drive/UrbanSound8K/UrbanSound8K/audio/fold10/162134-7-8-3.wav\n",
            "Warning: File not found: /content/drive/My Drive/UrbanSound8K/UrbanSound8K/audio/fold10/162134-7-8-4.wav\n",
            "Warning: File not found: /content/drive/My Drive/UrbanSound8K/UrbanSound8K/audio/fold10/162134-7-8-5.wav\n",
            "Warning: File not found: /content/drive/My Drive/UrbanSound8K/UrbanSound8K/audio/fold10/162134-7-8-6.wav\n",
            "Warning: File not found: /content/drive/My Drive/UrbanSound8K/UrbanSound8K/audio/fold10/162134-7-8-7.wav\n",
            "Warning: File not found: /content/drive/My Drive/UrbanSound8K/UrbanSound8K/audio/fold10/162134-7-9-0.wav\n",
            "Warning: File not found: /content/drive/My Drive/UrbanSound8K/UrbanSound8K/audio/fold10/162134-7-9-1.wav\n",
            "Warning: File not found: /content/drive/My Drive/UrbanSound8K/UrbanSound8K/audio/fold10/162134-7-9-2.wav\n",
            "Warning: File not found: /content/drive/My Drive/UrbanSound8K/UrbanSound8K/audio/fold10/162134-7-9-3.wav\n",
            "Warning: File not found: /content/drive/My Drive/UrbanSound8K/UrbanSound8K/audio/fold10/162134-7-9-4.wav\n"
          ]
        },
        {
          "output_type": "stream",
          "name": "stderr",
          "text": [
            " 35%|███▍      | 3025/8732 [22:14<53:10,  1.79it/s]"
          ]
        },
        {
          "output_type": "stream",
          "name": "stdout",
          "text": [
            "Warning: File not found: /content/drive/My Drive/UrbanSound8K/UrbanSound8K/audio/fold10/164194-2-0-10.wav\n",
            "Warning: File not found: /content/drive/My Drive/UrbanSound8K/UrbanSound8K/audio/fold10/164194-2-0-11.wav\n",
            "Warning: File not found: /content/drive/My Drive/UrbanSound8K/UrbanSound8K/audio/fold10/164194-2-0-14.wav\n",
            "Warning: File not found: /content/drive/My Drive/UrbanSound8K/UrbanSound8K/audio/fold10/164194-2-0-18.wav\n",
            "Warning: File not found: /content/drive/My Drive/UrbanSound8K/UrbanSound8K/audio/fold10/164194-2-0-24.wav\n",
            "Warning: File not found: /content/drive/My Drive/UrbanSound8K/UrbanSound8K/audio/fold10/164194-2-0-26.wav\n",
            "Warning: File not found: /content/drive/My Drive/UrbanSound8K/UrbanSound8K/audio/fold10/164194-2-0-29.wav\n",
            "Warning: File not found: /content/drive/My Drive/UrbanSound8K/UrbanSound8K/audio/fold10/164194-2-0-7.wav\n"
          ]
        },
        {
          "output_type": "stream",
          "name": "stderr",
          "text": [
            " 35%|███▍      | 3045/8732 [22:20<42:04,  2.25it/s]"
          ]
        },
        {
          "output_type": "stream",
          "name": "stdout",
          "text": [
            "Warning: File not found: /content/drive/My Drive/UrbanSound8K/UrbanSound8K/audio/fold10/164377-9-0-16.wav\n",
            "Warning: File not found: /content/drive/My Drive/UrbanSound8K/UrbanSound8K/audio/fold10/164377-9-1-15.wav\n",
            "Warning: File not found: /content/drive/My Drive/UrbanSound8K/UrbanSound8K/audio/fold10/164377-9-1-3.wav\n",
            "Warning: File not found: /content/drive/My Drive/UrbanSound8K/UrbanSound8K/audio/fold10/164377-9-1-36.wav\n",
            "Warning: File not found: /content/drive/My Drive/UrbanSound8K/UrbanSound8K/audio/fold10/164377-9-1-43.wav\n",
            "Warning: File not found: /content/drive/My Drive/UrbanSound8K/UrbanSound8K/audio/fold10/164377-9-1-50.wav\n",
            "Warning: File not found: /content/drive/My Drive/UrbanSound8K/UrbanSound8K/audio/fold10/164377-9-1-92.wav\n"
          ]
        },
        {
          "output_type": "stream",
          "name": "stderr",
          "text": [
            " 37%|███▋      | 3194/8732 [23:30<45:20,  2.04it/s]"
          ]
        },
        {
          "output_type": "stream",
          "name": "stdout",
          "text": [
            "Warning: File not found: /content/drive/My Drive/UrbanSound8K/UrbanSound8K/audio/fold2/166421-3-0-31.wav\n",
            "Warning: File not found: /content/drive/My Drive/UrbanSound8K/UrbanSound8K/audio/fold2/166421-3-0-5.wav\n"
          ]
        },
        {
          "output_type": "stream",
          "name": "stderr",
          "text": [
            " 37%|███▋      | 3243/8732 [23:51<39:15,  2.33it/s]"
          ]
        },
        {
          "output_type": "stream",
          "name": "stdout",
          "text": [
            "Warning: File not found: /content/drive/My Drive/UrbanSound8K/UrbanSound8K/audio/fold10/167464-0-0-0.wav\n",
            "Warning: File not found: /content/drive/My Drive/UrbanSound8K/UrbanSound8K/audio/fold10/167464-0-0-1.wav\n",
            "Warning: File not found: /content/drive/My Drive/UrbanSound8K/UrbanSound8K/audio/fold10/167464-0-0-10.wav\n",
            "Warning: File not found: /content/drive/My Drive/UrbanSound8K/UrbanSound8K/audio/fold10/167464-0-0-11.wav\n",
            "Warning: File not found: /content/drive/My Drive/UrbanSound8K/UrbanSound8K/audio/fold10/167464-0-0-12.wav\n",
            "Warning: File not found: /content/drive/My Drive/UrbanSound8K/UrbanSound8K/audio/fold10/167464-0-0-13.wav\n",
            "Warning: File not found: /content/drive/My Drive/UrbanSound8K/UrbanSound8K/audio/fold10/167464-0-0-14.wav\n",
            "Warning: File not found: /content/drive/My Drive/UrbanSound8K/UrbanSound8K/audio/fold10/167464-0-0-15.wav\n",
            "Warning: File not found: /content/drive/My Drive/UrbanSound8K/UrbanSound8K/audio/fold10/167464-0-0-16.wav\n",
            "Warning: File not found: /content/drive/My Drive/UrbanSound8K/UrbanSound8K/audio/fold10/167464-0-0-17.wav\n",
            "Warning: File not found: /content/drive/My Drive/UrbanSound8K/UrbanSound8K/audio/fold10/167464-0-0-18.wav\n",
            "Warning: File not found: /content/drive/My Drive/UrbanSound8K/UrbanSound8K/audio/fold10/167464-0-0-19.wav\n",
            "Warning: File not found: /content/drive/My Drive/UrbanSound8K/UrbanSound8K/audio/fold10/167464-0-0-2.wav\n",
            "Warning: File not found: /content/drive/My Drive/UrbanSound8K/UrbanSound8K/audio/fold10/167464-0-0-20.wav\n",
            "Warning: File not found: /content/drive/My Drive/UrbanSound8K/UrbanSound8K/audio/fold10/167464-0-0-21.wav\n",
            "Warning: File not found: /content/drive/My Drive/UrbanSound8K/UrbanSound8K/audio/fold10/167464-0-0-22.wav\n",
            "Warning: File not found: /content/drive/My Drive/UrbanSound8K/UrbanSound8K/audio/fold10/167464-0-0-23.wav\n",
            "Warning: File not found: /content/drive/My Drive/UrbanSound8K/UrbanSound8K/audio/fold10/167464-0-0-24.wav\n",
            "Warning: File not found: /content/drive/My Drive/UrbanSound8K/UrbanSound8K/audio/fold10/167464-0-0-3.wav\n",
            "Warning: File not found: /content/drive/My Drive/UrbanSound8K/UrbanSound8K/audio/fold10/167464-0-0-4.wav\n",
            "Warning: File not found: /content/drive/My Drive/UrbanSound8K/UrbanSound8K/audio/fold10/167464-0-0-5.wav\n",
            "Warning: File not found: /content/drive/My Drive/UrbanSound8K/UrbanSound8K/audio/fold10/167464-0-0-6.wav\n",
            "Warning: File not found: /content/drive/My Drive/UrbanSound8K/UrbanSound8K/audio/fold10/167464-0-0-7.wav\n",
            "Warning: File not found: /content/drive/My Drive/UrbanSound8K/UrbanSound8K/audio/fold10/167464-0-0-8.wav\n",
            "Warning: File not found: /content/drive/My Drive/UrbanSound8K/UrbanSound8K/audio/fold10/167464-0-0-9.wav\n"
          ]
        },
        {
          "output_type": "stream",
          "name": "stderr",
          "text": [
            " 38%|███▊      | 3298/8732 [24:06<47:26,  1.91it/s]"
          ]
        },
        {
          "output_type": "stream",
          "name": "stdout",
          "text": [
            "Warning: File not found: /content/drive/My Drive/UrbanSound8K/UrbanSound8K/audio/fold10/167750-4-1-0.wav\n"
          ]
        },
        {
          "output_type": "stream",
          "name": "stderr",
          "text": [
            " 39%|███▊      | 3372/8732 [24:40<46:13,  1.93it/s]"
          ]
        },
        {
          "output_type": "stream",
          "name": "stdout",
          "text": [
            "Warning: File not found: /content/drive/My Drive/UrbanSound8K/UrbanSound8K/audio/fold2/169098-7-0-0.wav\n",
            "Warning: File not found: /content/drive/My Drive/UrbanSound8K/UrbanSound8K/audio/fold2/169098-7-0-1.wav\n",
            "Warning: File not found: /content/drive/My Drive/UrbanSound8K/UrbanSound8K/audio/fold2/169098-7-0-2.wav\n",
            "Warning: File not found: /content/drive/My Drive/UrbanSound8K/UrbanSound8K/audio/fold2/169098-7-0-3.wav\n",
            "Warning: File not found: /content/drive/My Drive/UrbanSound8K/UrbanSound8K/audio/fold2/169098-7-0-4.wav\n",
            "Warning: File not found: /content/drive/My Drive/UrbanSound8K/UrbanSound8K/audio/fold2/169098-7-0-5.wav\n",
            "Warning: File not found: /content/drive/My Drive/UrbanSound8K/UrbanSound8K/audio/fold2/169098-7-0-6.wav\n",
            "Warning: File not found: /content/drive/My Drive/UrbanSound8K/UrbanSound8K/audio/fold2/169098-7-0-7.wav\n",
            "Warning: File not found: /content/drive/My Drive/UrbanSound8K/UrbanSound8K/audio/fold2/169098-7-0-8.wav\n",
            "Warning: File not found: /content/drive/My Drive/UrbanSound8K/UrbanSound8K/audio/fold2/169098-7-0-9.wav\n",
            "Warning: File not found: /content/drive/My Drive/UrbanSound8K/UrbanSound8K/audio/fold2/169098-7-1-0.wav\n",
            "Warning: File not found: /content/drive/My Drive/UrbanSound8K/UrbanSound8K/audio/fold2/169098-7-2-0.wav\n",
            "Warning: File not found: /content/drive/My Drive/UrbanSound8K/UrbanSound8K/audio/fold2/169098-7-3-0.wav\n",
            "Warning: File not found: /content/drive/My Drive/UrbanSound8K/UrbanSound8K/audio/fold2/169098-7-3-1.wav\n",
            "Warning: File not found: /content/drive/My Drive/UrbanSound8K/UrbanSound8K/audio/fold2/169098-7-4-0.wav\n",
            "Warning: File not found: /content/drive/My Drive/UrbanSound8K/UrbanSound8K/audio/fold2/169098-7-4-1.wav\n",
            "Warning: File not found: /content/drive/My Drive/UrbanSound8K/UrbanSound8K/audio/fold2/169098-7-4-10.wav\n",
            "Warning: File not found: /content/drive/My Drive/UrbanSound8K/UrbanSound8K/audio/fold2/169098-7-4-11.wav\n",
            "Warning: File not found: /content/drive/My Drive/UrbanSound8K/UrbanSound8K/audio/fold2/169098-7-4-2.wav\n",
            "Warning: File not found: /content/drive/My Drive/UrbanSound8K/UrbanSound8K/audio/fold2/169098-7-4-3.wav\n",
            "Warning: File not found: /content/drive/My Drive/UrbanSound8K/UrbanSound8K/audio/fold2/169098-7-4-4.wav\n",
            "Warning: File not found: /content/drive/My Drive/UrbanSound8K/UrbanSound8K/audio/fold2/169098-7-4-5.wav\n",
            "Warning: File not found: /content/drive/My Drive/UrbanSound8K/UrbanSound8K/audio/fold2/169098-7-4-6.wav\n",
            "Warning: File not found: /content/drive/My Drive/UrbanSound8K/UrbanSound8K/audio/fold2/169098-7-4-7.wav\n",
            "Warning: File not found: /content/drive/My Drive/UrbanSound8K/UrbanSound8K/audio/fold2/169098-7-4-8.wav\n",
            "Warning: File not found: /content/drive/My Drive/UrbanSound8K/UrbanSound8K/audio/fold2/169098-7-4-9.wav\n"
          ]
        },
        {
          "output_type": "stream",
          "name": "stderr",
          "text": [
            " 40%|████      | 3510/8732 [25:37<33:19,  2.61it/s]"
          ]
        },
        {
          "output_type": "stream",
          "name": "stdout",
          "text": [
            "Warning: File not found: /content/drive/My Drive/UrbanSound8K/UrbanSound8K/audio/fold10/171478-9-0-26.wav\n",
            "Warning: File not found: /content/drive/My Drive/UrbanSound8K/UrbanSound8K/audio/fold10/171478-9-0-28.wav\n",
            "Warning: File not found: /content/drive/My Drive/UrbanSound8K/UrbanSound8K/audio/fold10/171478-9-0-38.wav\n",
            "Warning: File not found: /content/drive/My Drive/UrbanSound8K/UrbanSound8K/audio/fold10/171478-9-0-4.wav\n",
            "Warning: File not found: /content/drive/My Drive/UrbanSound8K/UrbanSound8K/audio/fold10/171478-9-0-55.wav\n",
            "Warning: File not found: /content/drive/My Drive/UrbanSound8K/UrbanSound8K/audio/fold10/171478-9-0-57.wav\n",
            "Warning: File not found: /content/drive/My Drive/UrbanSound8K/UrbanSound8K/audio/fold10/171478-9-0-58.wav\n",
            "Warning: File not found: /content/drive/My Drive/UrbanSound8K/UrbanSound8K/audio/fold1/172314-9-0-22.wav\n",
            "Warning: File not found: /content/drive/My Drive/UrbanSound8K/UrbanSound8K/audio/fold1/172314-9-0-40.wav\n",
            "Warning: File not found: /content/drive/My Drive/UrbanSound8K/UrbanSound8K/audio/fold1/172314-9-0-51.wav\n",
            "Warning: File not found: /content/drive/My Drive/UrbanSound8K/UrbanSound8K/audio/fold1/172314-9-0-52.wav\n",
            "Warning: File not found: /content/drive/My Drive/UrbanSound8K/UrbanSound8K/audio/fold1/172314-9-0-72.wav\n",
            "Warning: File not found: /content/drive/My Drive/UrbanSound8K/UrbanSound8K/audio/fold1/172314-9-0-80.wav\n"
          ]
        },
        {
          "output_type": "stream",
          "name": "stderr",
          "text": [
            " 41%|████      | 3541/8732 [25:45<35:35,  2.43it/s]"
          ]
        },
        {
          "output_type": "stream",
          "name": "stdout",
          "text": [
            "Warning: File not found: /content/drive/My Drive/UrbanSound8K/UrbanSound8K/audio/fold10/172519-9-0-10.wav\n",
            "Warning: File not found: /content/drive/My Drive/UrbanSound8K/UrbanSound8K/audio/fold10/172519-9-0-13.wav\n",
            "Warning: File not found: /content/drive/My Drive/UrbanSound8K/UrbanSound8K/audio/fold10/172519-9-0-49.wav\n",
            "Warning: File not found: /content/drive/My Drive/UrbanSound8K/UrbanSound8K/audio/fold10/172519-9-0-53.wav\n",
            "Warning: File not found: /content/drive/My Drive/UrbanSound8K/UrbanSound8K/audio/fold10/172519-9-0-67.wav\n",
            "Warning: File not found: /content/drive/My Drive/UrbanSound8K/UrbanSound8K/audio/fold10/172519-9-0-8.wav\n"
          ]
        },
        {
          "output_type": "stream",
          "name": "stderr",
          "text": [
            " 41%|████      | 3555/8732 [25:48<27:08,  3.18it/s]/usr/local/lib/python3.11/dist-packages/librosa/core/spectrum.py:266: UserWarning: n_fft=2048 is too large for input signal of length=1323\n",
            "  warnings.warn(\n",
            " 41%|████      | 3570/8732 [25:55<50:14,  1.71it/s]"
          ]
        },
        {
          "output_type": "stream",
          "name": "stdout",
          "text": [
            "Warning: File not found: /content/drive/My Drive/UrbanSound8K/UrbanSound8K/audio/fold2/173995-3-0-0.wav\n",
            "Warning: File not found: /content/drive/My Drive/UrbanSound8K/UrbanSound8K/audio/fold2/173995-3-0-11.wav\n",
            "Warning: File not found: /content/drive/My Drive/UrbanSound8K/UrbanSound8K/audio/fold2/173995-3-0-27.wav\n",
            "Warning: File not found: /content/drive/My Drive/UrbanSound8K/UrbanSound8K/audio/fold2/173995-3-0-3.wav\n"
          ]
        },
        {
          "output_type": "stream",
          "name": "stderr",
          "text": [
            " 43%|████▎     | 3742/8732 [27:15<47:37,  1.75it/s]"
          ]
        },
        {
          "output_type": "stream",
          "name": "stdout",
          "text": [
            "Warning: File not found: /content/drive/My Drive/UrbanSound8K/UrbanSound8K/audio/fold1/176257-3-0-0.wav\n",
            "Warning: File not found: /content/drive/My Drive/UrbanSound8K/UrbanSound8K/audio/fold1/176258-3-1-12.wav\n",
            "Warning: File not found: /content/drive/My Drive/UrbanSound8K/UrbanSound8K/audio/fold1/176258-3-1-13.wav\n",
            "Warning: File not found: /content/drive/My Drive/UrbanSound8K/UrbanSound8K/audio/fold1/176258-3-1-18.wav\n",
            "Warning: File not found: /content/drive/My Drive/UrbanSound8K/UrbanSound8K/audio/fold1/176258-3-1-2.wav\n"
          ]
        },
        {
          "output_type": "stream",
          "name": "stderr",
          "text": [
            " 43%|████▎     | 3766/8732 [27:26<44:13,  1.87it/s]"
          ]
        },
        {
          "output_type": "stream",
          "name": "stdout",
          "text": [
            "Warning: File not found: /content/drive/My Drive/UrbanSound8K/UrbanSound8K/audio/fold1/176787-5-0-0.wav\n",
            "Warning: File not found: /content/drive/My Drive/UrbanSound8K/UrbanSound8K/audio/fold1/176787-5-0-1.wav\n",
            "Warning: File not found: /content/drive/My Drive/UrbanSound8K/UrbanSound8K/audio/fold1/176787-5-0-10.wav\n",
            "Warning: File not found: /content/drive/My Drive/UrbanSound8K/UrbanSound8K/audio/fold1/176787-5-0-11.wav\n",
            "Warning: File not found: /content/drive/My Drive/UrbanSound8K/UrbanSound8K/audio/fold1/176787-5-0-12.wav\n",
            "Warning: File not found: /content/drive/My Drive/UrbanSound8K/UrbanSound8K/audio/fold1/176787-5-0-13.wav\n",
            "Warning: File not found: /content/drive/My Drive/UrbanSound8K/UrbanSound8K/audio/fold1/176787-5-0-14.wav\n",
            "Warning: File not found: /content/drive/My Drive/UrbanSound8K/UrbanSound8K/audio/fold1/176787-5-0-15.wav\n",
            "Warning: File not found: /content/drive/My Drive/UrbanSound8K/UrbanSound8K/audio/fold1/176787-5-0-16.wav\n",
            "Warning: File not found: /content/drive/My Drive/UrbanSound8K/UrbanSound8K/audio/fold1/176787-5-0-17.wav\n",
            "Warning: File not found: /content/drive/My Drive/UrbanSound8K/UrbanSound8K/audio/fold1/176787-5-0-18.wav\n",
            "Warning: File not found: /content/drive/My Drive/UrbanSound8K/UrbanSound8K/audio/fold1/176787-5-0-19.wav\n",
            "Warning: File not found: /content/drive/My Drive/UrbanSound8K/UrbanSound8K/audio/fold1/176787-5-0-2.wav\n",
            "Warning: File not found: /content/drive/My Drive/UrbanSound8K/UrbanSound8K/audio/fold1/176787-5-0-20.wav\n",
            "Warning: File not found: /content/drive/My Drive/UrbanSound8K/UrbanSound8K/audio/fold1/176787-5-0-21.wav\n",
            "Warning: File not found: /content/drive/My Drive/UrbanSound8K/UrbanSound8K/audio/fold1/176787-5-0-22.wav\n",
            "Warning: File not found: /content/drive/My Drive/UrbanSound8K/UrbanSound8K/audio/fold1/176787-5-0-23.wav\n",
            "Warning: File not found: /content/drive/My Drive/UrbanSound8K/UrbanSound8K/audio/fold1/176787-5-0-24.wav\n",
            "Warning: File not found: /content/drive/My Drive/UrbanSound8K/UrbanSound8K/audio/fold1/176787-5-0-25.wav\n",
            "Warning: File not found: /content/drive/My Drive/UrbanSound8K/UrbanSound8K/audio/fold1/176787-5-0-26.wav\n",
            "Warning: File not found: /content/drive/My Drive/UrbanSound8K/UrbanSound8K/audio/fold1/176787-5-0-27.wav\n",
            "Warning: File not found: /content/drive/My Drive/UrbanSound8K/UrbanSound8K/audio/fold1/176787-5-0-28.wav\n",
            "Warning: File not found: /content/drive/My Drive/UrbanSound8K/UrbanSound8K/audio/fold1/176787-5-0-29.wav\n",
            "Warning: File not found: /content/drive/My Drive/UrbanSound8K/UrbanSound8K/audio/fold1/176787-5-0-3.wav\n",
            "Warning: File not found: /content/drive/My Drive/UrbanSound8K/UrbanSound8K/audio/fold1/176787-5-0-30.wav\n",
            "Warning: File not found: /content/drive/My Drive/UrbanSound8K/UrbanSound8K/audio/fold1/176787-5-0-4.wav\n",
            "Warning: File not found: /content/drive/My Drive/UrbanSound8K/UrbanSound8K/audio/fold1/176787-5-0-5.wav\n",
            "Warning: File not found: /content/drive/My Drive/UrbanSound8K/UrbanSound8K/audio/fold1/176787-5-0-6.wav\n",
            "Warning: File not found: /content/drive/My Drive/UrbanSound8K/UrbanSound8K/audio/fold1/176787-5-0-7.wav\n",
            "Warning: File not found: /content/drive/My Drive/UrbanSound8K/UrbanSound8K/audio/fold1/176787-5-0-8.wav\n",
            "Warning: File not found: /content/drive/My Drive/UrbanSound8K/UrbanSound8K/audio/fold1/176787-5-0-9.wav\n"
          ]
        },
        {
          "output_type": "stream",
          "name": "stderr",
          "text": [
            " 44%|████▍     | 3857/8732 [27:56<38:53,  2.09it/s]"
          ]
        },
        {
          "output_type": "stream",
          "name": "stdout",
          "text": [
            "Warning: File not found: /content/drive/My Drive/UrbanSound8K/UrbanSound8K/audio/fold1/177621-0-0-0.wav\n",
            "Warning: File not found: /content/drive/My Drive/UrbanSound8K/UrbanSound8K/audio/fold1/177621-0-0-100.wav\n",
            "Warning: File not found: /content/drive/My Drive/UrbanSound8K/UrbanSound8K/audio/fold1/177621-0-0-104.wav\n",
            "Warning: File not found: /content/drive/My Drive/UrbanSound8K/UrbanSound8K/audio/fold1/177621-0-0-105.wav\n",
            "Warning: File not found: /content/drive/My Drive/UrbanSound8K/UrbanSound8K/audio/fold1/177621-0-0-109.wav\n",
            "Warning: File not found: /content/drive/My Drive/UrbanSound8K/UrbanSound8K/audio/fold1/177621-0-0-117.wav\n",
            "Warning: File not found: /content/drive/My Drive/UrbanSound8K/UrbanSound8K/audio/fold1/177621-0-0-120.wav\n",
            "Warning: File not found: /content/drive/My Drive/UrbanSound8K/UrbanSound8K/audio/fold1/177621-0-0-126.wav\n",
            "Warning: File not found: /content/drive/My Drive/UrbanSound8K/UrbanSound8K/audio/fold1/177621-0-0-127.wav\n",
            "Warning: File not found: /content/drive/My Drive/UrbanSound8K/UrbanSound8K/audio/fold1/177621-0-0-128.wav\n",
            "Warning: File not found: /content/drive/My Drive/UrbanSound8K/UrbanSound8K/audio/fold1/177621-0-0-145.wav\n",
            "Warning: File not found: /content/drive/My Drive/UrbanSound8K/UrbanSound8K/audio/fold1/177621-0-0-147.wav\n",
            "Warning: File not found: /content/drive/My Drive/UrbanSound8K/UrbanSound8K/audio/fold1/177621-0-0-2.wav\n",
            "Warning: File not found: /content/drive/My Drive/UrbanSound8K/UrbanSound8K/audio/fold1/177621-0-0-27.wav\n",
            "Warning: File not found: /content/drive/My Drive/UrbanSound8K/UrbanSound8K/audio/fold1/177621-0-0-31.wav\n",
            "Warning: File not found: /content/drive/My Drive/UrbanSound8K/UrbanSound8K/audio/fold1/177621-0-0-35.wav\n",
            "Warning: File not found: /content/drive/My Drive/UrbanSound8K/UrbanSound8K/audio/fold1/177621-0-0-46.wav\n",
            "Warning: File not found: /content/drive/My Drive/UrbanSound8K/UrbanSound8K/audio/fold1/177621-0-0-47.wav\n",
            "Warning: File not found: /content/drive/My Drive/UrbanSound8K/UrbanSound8K/audio/fold1/177621-0-0-48.wav\n",
            "Warning: File not found: /content/drive/My Drive/UrbanSound8K/UrbanSound8K/audio/fold1/177621-0-0-54.wav\n",
            "Warning: File not found: /content/drive/My Drive/UrbanSound8K/UrbanSound8K/audio/fold1/177621-0-0-57.wav\n",
            "Warning: File not found: /content/drive/My Drive/UrbanSound8K/UrbanSound8K/audio/fold1/177621-0-0-80.wav\n",
            "Warning: File not found: /content/drive/My Drive/UrbanSound8K/UrbanSound8K/audio/fold1/177621-0-0-88.wav\n",
            "Warning: File not found: /content/drive/My Drive/UrbanSound8K/UrbanSound8K/audio/fold1/177621-0-0-91.wav\n",
            "Warning: File not found: /content/drive/My Drive/UrbanSound8K/UrbanSound8K/audio/fold1/177621-0-0-93.wav\n"
          ]
        },
        {
          "output_type": "stream",
          "name": "stderr",
          "text": [
            " 46%|████▌     | 4023/8732 [29:10<41:29,  1.89it/s]"
          ]
        },
        {
          "output_type": "stream",
          "name": "stdout",
          "text": [
            "Warning: File not found: /content/drive/My Drive/UrbanSound8K/UrbanSound8K/audio/fold10/178261-7-1-0.wav\n",
            "Warning: File not found: /content/drive/My Drive/UrbanSound8K/UrbanSound8K/audio/fold10/178261-7-2-0.wav\n",
            "Warning: File not found: /content/drive/My Drive/UrbanSound8K/UrbanSound8K/audio/fold10/178261-7-3-0.wav\n",
            "Warning: File not found: /content/drive/My Drive/UrbanSound8K/UrbanSound8K/audio/fold10/178261-7-3-1.wav\n",
            "Warning: File not found: /content/drive/My Drive/UrbanSound8K/UrbanSound8K/audio/fold10/178261-7-3-2.wav\n",
            "Warning: File not found: /content/drive/My Drive/UrbanSound8K/UrbanSound8K/audio/fold10/178261-7-3-3.wav\n",
            "Warning: File not found: /content/drive/My Drive/UrbanSound8K/UrbanSound8K/audio/fold10/178261-7-3-4.wav\n",
            "Warning: File not found: /content/drive/My Drive/UrbanSound8K/UrbanSound8K/audio/fold10/178261-7-3-5.wav\n",
            "Warning: File not found: /content/drive/My Drive/UrbanSound8K/UrbanSound8K/audio/fold10/178261-7-3-6.wav\n"
          ]
        },
        {
          "output_type": "stream",
          "name": "stderr",
          "text": [
            " 46%|████▌     | 4037/8732 [29:13<28:35,  2.74it/s]"
          ]
        },
        {
          "output_type": "stream",
          "name": "stdout",
          "text": [
            "Warning: File not found: /content/drive/My Drive/UrbanSound8K/UrbanSound8K/audio/fold2/178520-2-0-11.wav\n",
            "Warning: File not found: /content/drive/My Drive/UrbanSound8K/UrbanSound8K/audio/fold2/178520-2-0-23.wav\n",
            "Warning: File not found: /content/drive/My Drive/UrbanSound8K/UrbanSound8K/audio/fold2/178520-2-0-27.wav\n",
            "Warning: File not found: /content/drive/My Drive/UrbanSound8K/UrbanSound8K/audio/fold2/178520-2-0-28.wav\n",
            "Warning: File not found: /content/drive/My Drive/UrbanSound8K/UrbanSound8K/audio/fold2/178520-2-0-29.wav\n",
            "Warning: File not found: /content/drive/My Drive/UrbanSound8K/UrbanSound8K/audio/fold2/178520-2-0-38.wav\n",
            "Warning: File not found: /content/drive/My Drive/UrbanSound8K/UrbanSound8K/audio/fold2/178520-2-0-39.wav\n",
            "Warning: File not found: /content/drive/My Drive/UrbanSound8K/UrbanSound8K/audio/fold2/178520-2-0-42.wav\n",
            "Warning: File not found: /content/drive/My Drive/UrbanSound8K/UrbanSound8K/audio/fold2/178521-2-0-18.wav\n",
            "Warning: File not found: /content/drive/My Drive/UrbanSound8K/UrbanSound8K/audio/fold2/178521-2-0-2.wav\n",
            "Warning: File not found: /content/drive/My Drive/UrbanSound8K/UrbanSound8K/audio/fold2/178521-2-0-22.wav\n",
            "Warning: File not found: /content/drive/My Drive/UrbanSound8K/UrbanSound8K/audio/fold2/178521-2-0-69.wav\n",
            "Warning: File not found: /content/drive/My Drive/UrbanSound8K/UrbanSound8K/audio/fold2/178521-2-0-7.wav\n",
            "Warning: File not found: /content/drive/My Drive/UrbanSound8K/UrbanSound8K/audio/fold2/178521-2-0-70.wav\n",
            "Warning: File not found: /content/drive/My Drive/UrbanSound8K/UrbanSound8K/audio/fold2/178521-2-0-86.wav\n",
            "Warning: File not found: /content/drive/My Drive/UrbanSound8K/UrbanSound8K/audio/fold2/178521-2-0-93.wav\n"
          ]
        },
        {
          "output_type": "stream",
          "name": "stderr",
          "text": [
            " 49%|████▉     | 4291/8732 [31:07<34:38,  2.14it/s]"
          ]
        },
        {
          "output_type": "stream",
          "name": "stdout",
          "text": [
            "Warning: File not found: /content/drive/My Drive/UrbanSound8K/UrbanSound8K/audio/fold1/180256-3-0-0.wav\n",
            "Warning: File not found: /content/drive/My Drive/UrbanSound8K/UrbanSound8K/audio/fold1/180256-3-0-1.wav\n",
            "Warning: File not found: /content/drive/My Drive/UrbanSound8K/UrbanSound8K/audio/fold1/180256-3-0-2.wav\n",
            "Warning: File not found: /content/drive/My Drive/UrbanSound8K/UrbanSound8K/audio/fold1/180256-3-0-3.wav\n"
          ]
        },
        {
          "output_type": "stream",
          "name": "stderr",
          "text": [
            " 49%|████▉     | 4315/8732 [31:18<42:23,  1.74it/s]"
          ]
        },
        {
          "output_type": "stream",
          "name": "stdout",
          "text": [
            "Warning: File not found: /content/drive/My Drive/UrbanSound8K/UrbanSound8K/audio/fold1/180937-7-0-0.wav\n",
            "Warning: File not found: /content/drive/My Drive/UrbanSound8K/UrbanSound8K/audio/fold1/180937-7-0-1.wav\n",
            "Warning: File not found: /content/drive/My Drive/UrbanSound8K/UrbanSound8K/audio/fold1/180937-7-0-2.wav\n",
            "Warning: File not found: /content/drive/My Drive/UrbanSound8K/UrbanSound8K/audio/fold1/180937-7-0-4.wav\n",
            "Warning: File not found: /content/drive/My Drive/UrbanSound8K/UrbanSound8K/audio/fold1/180937-7-0-5.wav\n",
            "Warning: File not found: /content/drive/My Drive/UrbanSound8K/UrbanSound8K/audio/fold1/180937-7-0-6.wav\n",
            "Warning: File not found: /content/drive/My Drive/UrbanSound8K/UrbanSound8K/audio/fold1/180937-7-1-0.wav\n",
            "Warning: File not found: /content/drive/My Drive/UrbanSound8K/UrbanSound8K/audio/fold1/180937-7-1-1.wav\n",
            "Warning: File not found: /content/drive/My Drive/UrbanSound8K/UrbanSound8K/audio/fold1/180937-7-1-10.wav\n",
            "Warning: File not found: /content/drive/My Drive/UrbanSound8K/UrbanSound8K/audio/fold1/180937-7-1-11.wav\n",
            "Warning: File not found: /content/drive/My Drive/UrbanSound8K/UrbanSound8K/audio/fold1/180937-7-1-12.wav\n",
            "Warning: File not found: /content/drive/My Drive/UrbanSound8K/UrbanSound8K/audio/fold1/180937-7-1-13.wav\n",
            "Warning: File not found: /content/drive/My Drive/UrbanSound8K/UrbanSound8K/audio/fold1/180937-7-1-14.wav\n",
            "Warning: File not found: /content/drive/My Drive/UrbanSound8K/UrbanSound8K/audio/fold1/180937-7-1-15.wav\n",
            "Warning: File not found: /content/drive/My Drive/UrbanSound8K/UrbanSound8K/audio/fold1/180937-7-1-2.wav\n",
            "Warning: File not found: /content/drive/My Drive/UrbanSound8K/UrbanSound8K/audio/fold1/180937-7-1-3.wav\n",
            "Warning: File not found: /content/drive/My Drive/UrbanSound8K/UrbanSound8K/audio/fold1/180937-7-1-4.wav\n",
            "Warning: File not found: /content/drive/My Drive/UrbanSound8K/UrbanSound8K/audio/fold1/180937-7-1-5.wav\n",
            "Warning: File not found: /content/drive/My Drive/UrbanSound8K/UrbanSound8K/audio/fold1/180937-7-1-6.wav\n",
            "Warning: File not found: /content/drive/My Drive/UrbanSound8K/UrbanSound8K/audio/fold1/180937-7-1-7.wav\n",
            "Warning: File not found: /content/drive/My Drive/UrbanSound8K/UrbanSound8K/audio/fold1/180937-7-1-8.wav\n",
            "Warning: File not found: /content/drive/My Drive/UrbanSound8K/UrbanSound8K/audio/fold1/180937-7-1-9.wav\n",
            "Warning: File not found: /content/drive/My Drive/UrbanSound8K/UrbanSound8K/audio/fold1/180937-7-2-0.wav\n",
            "Warning: File not found: /content/drive/My Drive/UrbanSound8K/UrbanSound8K/audio/fold1/180937-7-2-1.wav\n",
            "Warning: File not found: /content/drive/My Drive/UrbanSound8K/UrbanSound8K/audio/fold1/180937-7-2-10.wav\n",
            "Warning: File not found: /content/drive/My Drive/UrbanSound8K/UrbanSound8K/audio/fold1/180937-7-2-2.wav\n",
            "Warning: File not found: /content/drive/My Drive/UrbanSound8K/UrbanSound8K/audio/fold1/180937-7-2-3.wav\n",
            "Warning: File not found: /content/drive/My Drive/UrbanSound8K/UrbanSound8K/audio/fold1/180937-7-2-4.wav\n",
            "Warning: File not found: /content/drive/My Drive/UrbanSound8K/UrbanSound8K/audio/fold1/180937-7-2-5.wav\n",
            "Warning: File not found: /content/drive/My Drive/UrbanSound8K/UrbanSound8K/audio/fold1/180937-7-2-6.wav\n",
            "Warning: File not found: /content/drive/My Drive/UrbanSound8K/UrbanSound8K/audio/fold1/180937-7-2-7.wav\n",
            "Warning: File not found: /content/drive/My Drive/UrbanSound8K/UrbanSound8K/audio/fold1/180937-7-2-8.wav\n",
            "Warning: File not found: /content/drive/My Drive/UrbanSound8K/UrbanSound8K/audio/fold1/180937-7-2-9.wav\n",
            "Warning: File not found: /content/drive/My Drive/UrbanSound8K/UrbanSound8K/audio/fold1/180937-7-3-0.wav\n",
            "Warning: File not found: /content/drive/My Drive/UrbanSound8K/UrbanSound8K/audio/fold1/180937-7-3-1.wav\n",
            "Warning: File not found: /content/drive/My Drive/UrbanSound8K/UrbanSound8K/audio/fold1/180937-7-3-10.wav\n",
            "Warning: File not found: /content/drive/My Drive/UrbanSound8K/UrbanSound8K/audio/fold1/180937-7-3-11.wav\n",
            "Warning: File not found: /content/drive/My Drive/UrbanSound8K/UrbanSound8K/audio/fold1/180937-7-3-12.wav\n",
            "Warning: File not found: /content/drive/My Drive/UrbanSound8K/UrbanSound8K/audio/fold1/180937-7-3-13.wav\n",
            "Warning: File not found: /content/drive/My Drive/UrbanSound8K/UrbanSound8K/audio/fold1/180937-7-3-14.wav\n",
            "Warning: File not found: /content/drive/My Drive/UrbanSound8K/UrbanSound8K/audio/fold1/180937-7-3-15.wav\n",
            "Warning: File not found: /content/drive/My Drive/UrbanSound8K/UrbanSound8K/audio/fold1/180937-7-3-17.wav\n",
            "Warning: File not found: /content/drive/My Drive/UrbanSound8K/UrbanSound8K/audio/fold1/180937-7-3-18.wav\n",
            "Warning: File not found: /content/drive/My Drive/UrbanSound8K/UrbanSound8K/audio/fold1/180937-7-3-19.wav\n",
            "Warning: File not found: /content/drive/My Drive/UrbanSound8K/UrbanSound8K/audio/fold1/180937-7-3-2.wav\n",
            "Warning: File not found: /content/drive/My Drive/UrbanSound8K/UrbanSound8K/audio/fold1/180937-7-3-20.wav\n",
            "Warning: File not found: /content/drive/My Drive/UrbanSound8K/UrbanSound8K/audio/fold1/180937-7-3-21.wav\n",
            "Warning: File not found: /content/drive/My Drive/UrbanSound8K/UrbanSound8K/audio/fold1/180937-7-3-22.wav\n",
            "Warning: File not found: /content/drive/My Drive/UrbanSound8K/UrbanSound8K/audio/fold1/180937-7-3-23.wav\n",
            "Warning: File not found: /content/drive/My Drive/UrbanSound8K/UrbanSound8K/audio/fold1/180937-7-3-24.wav\n",
            "Warning: File not found: /content/drive/My Drive/UrbanSound8K/UrbanSound8K/audio/fold1/180937-7-3-26.wav\n",
            "Warning: File not found: /content/drive/My Drive/UrbanSound8K/UrbanSound8K/audio/fold1/180937-7-3-27.wav\n",
            "Warning: File not found: /content/drive/My Drive/UrbanSound8K/UrbanSound8K/audio/fold1/180937-7-3-28.wav\n",
            "Warning: File not found: /content/drive/My Drive/UrbanSound8K/UrbanSound8K/audio/fold1/180937-7-3-29.wav\n",
            "Warning: File not found: /content/drive/My Drive/UrbanSound8K/UrbanSound8K/audio/fold1/180937-7-3-3.wav\n",
            "Warning: File not found: /content/drive/My Drive/UrbanSound8K/UrbanSound8K/audio/fold1/180937-7-3-30.wav\n",
            "Warning: File not found: /content/drive/My Drive/UrbanSound8K/UrbanSound8K/audio/fold1/180937-7-3-31.wav\n",
            "Warning: File not found: /content/drive/My Drive/UrbanSound8K/UrbanSound8K/audio/fold1/180937-7-3-32.wav\n",
            "Warning: File not found: /content/drive/My Drive/UrbanSound8K/UrbanSound8K/audio/fold1/180937-7-3-33.wav\n",
            "Warning: File not found: /content/drive/My Drive/UrbanSound8K/UrbanSound8K/audio/fold1/180937-7-3-4.wav\n",
            "Warning: File not found: /content/drive/My Drive/UrbanSound8K/UrbanSound8K/audio/fold1/180937-7-3-5.wav\n",
            "Warning: File not found: /content/drive/My Drive/UrbanSound8K/UrbanSound8K/audio/fold1/180937-7-3-6.wav\n",
            "Warning: File not found: /content/drive/My Drive/UrbanSound8K/UrbanSound8K/audio/fold1/180937-7-3-7.wav\n",
            "Warning: File not found: /content/drive/My Drive/UrbanSound8K/UrbanSound8K/audio/fold1/180937-7-3-8.wav\n",
            "Warning: File not found: /content/drive/My Drive/UrbanSound8K/UrbanSound8K/audio/fold1/180937-7-3-9.wav\n",
            "Warning: File not found: /content/drive/My Drive/UrbanSound8K/UrbanSound8K/audio/fold1/180937-7-4-0.wav\n",
            "Warning: File not found: /content/drive/My Drive/UrbanSound8K/UrbanSound8K/audio/fold1/180937-7-4-10.wav\n",
            "Warning: File not found: /content/drive/My Drive/UrbanSound8K/UrbanSound8K/audio/fold1/180937-7-4-11.wav\n",
            "Warning: File not found: /content/drive/My Drive/UrbanSound8K/UrbanSound8K/audio/fold1/180937-7-4-12.wav\n",
            "Warning: File not found: /content/drive/My Drive/UrbanSound8K/UrbanSound8K/audio/fold1/180937-7-4-13.wav\n",
            "Warning: File not found: /content/drive/My Drive/UrbanSound8K/UrbanSound8K/audio/fold1/180937-7-4-14.wav\n",
            "Warning: File not found: /content/drive/My Drive/UrbanSound8K/UrbanSound8K/audio/fold1/180937-7-4-2.wav\n",
            "Warning: File not found: /content/drive/My Drive/UrbanSound8K/UrbanSound8K/audio/fold1/180937-7-4-3.wav\n",
            "Warning: File not found: /content/drive/My Drive/UrbanSound8K/UrbanSound8K/audio/fold1/180937-7-4-4.wav\n",
            "Warning: File not found: /content/drive/My Drive/UrbanSound8K/UrbanSound8K/audio/fold1/180937-7-4-5.wav\n",
            "Warning: File not found: /content/drive/My Drive/UrbanSound8K/UrbanSound8K/audio/fold1/180937-7-4-6.wav\n",
            "Warning: File not found: /content/drive/My Drive/UrbanSound8K/UrbanSound8K/audio/fold1/180937-7-4-7.wav\n",
            "Warning: File not found: /content/drive/My Drive/UrbanSound8K/UrbanSound8K/audio/fold1/180937-7-4-8.wav\n",
            "Warning: File not found: /content/drive/My Drive/UrbanSound8K/UrbanSound8K/audio/fold1/180937-7-4-9.wav\n"
          ]
        },
        {
          "output_type": "stream",
          "name": "stderr",
          "text": [
            " 51%|█████     | 4425/8732 [31:33<33:31,  2.14it/s]"
          ]
        },
        {
          "output_type": "stream",
          "name": "stdout",
          "text": [
            "Warning: File not found: /content/drive/My Drive/UrbanSound8K/UrbanSound8K/audio/fold2/182739-2-0-13.wav\n",
            "Warning: File not found: /content/drive/My Drive/UrbanSound8K/UrbanSound8K/audio/fold2/182739-2-0-17.wav\n",
            "Warning: File not found: /content/drive/My Drive/UrbanSound8K/UrbanSound8K/audio/fold2/182739-2-0-24.wav\n",
            "Warning: File not found: /content/drive/My Drive/UrbanSound8K/UrbanSound8K/audio/fold2/182739-2-0-35.wav\n",
            "Warning: File not found: /content/drive/My Drive/UrbanSound8K/UrbanSound8K/audio/fold2/182739-2-0-56.wav\n",
            "Warning: File not found: /content/drive/My Drive/UrbanSound8K/UrbanSound8K/audio/fold2/182739-2-0-62.wav\n",
            "Warning: File not found: /content/drive/My Drive/UrbanSound8K/UrbanSound8K/audio/fold2/182739-2-0-78.wav\n",
            "Warning: File not found: /content/drive/My Drive/UrbanSound8K/UrbanSound8K/audio/fold2/182739-2-0-85.wav\n",
            "Warning: File not found: /content/drive/My Drive/UrbanSound8K/UrbanSound8K/audio/fold1/182800-2-0-0.wav\n"
          ]
        },
        {
          "output_type": "stream",
          "name": "stderr",
          "text": [
            "\r 51%|█████     | 4435/8732 [31:33<09:01,  7.93it/s]"
          ]
        },
        {
          "output_type": "stream",
          "name": "stdout",
          "text": [
            "Warning: File not found: /content/drive/My Drive/UrbanSound8K/UrbanSound8K/audio/fold1/182800-2-2-0.wav\n",
            "Warning: File not found: /content/drive/My Drive/UrbanSound8K/UrbanSound8K/audio/fold1/182800-2-2-1.wav\n",
            "Warning: File not found: /content/drive/My Drive/UrbanSound8K/UrbanSound8K/audio/fold1/182800-2-2-2.wav\n",
            "Warning: File not found: /content/drive/My Drive/UrbanSound8K/UrbanSound8K/audio/fold1/182800-2-2-3.wav\n",
            "Warning: File not found: /content/drive/My Drive/UrbanSound8K/UrbanSound8K/audio/fold1/182800-2-3-0.wav\n",
            "Warning: File not found: /content/drive/My Drive/UrbanSound8K/UrbanSound8K/audio/fold1/182800-2-3-1.wav\n"
          ]
        },
        {
          "output_type": "stream",
          "name": "stderr",
          "text": [
            " 53%|█████▎    | 4657/8732 [33:18<26:02,  2.61it/s]"
          ]
        },
        {
          "output_type": "stream",
          "name": "stdout",
          "text": [
            "Warning: File not found: /content/drive/My Drive/UrbanSound8K/UrbanSound8K/audio/fold10/188813-7-1-0.wav\n",
            "Warning: File not found: /content/drive/My Drive/UrbanSound8K/UrbanSound8K/audio/fold10/188813-7-10-0.wav\n",
            "Warning: File not found: /content/drive/My Drive/UrbanSound8K/UrbanSound8K/audio/fold10/188813-7-10-1.wav\n",
            "Warning: File not found: /content/drive/My Drive/UrbanSound8K/UrbanSound8K/audio/fold10/188813-7-10-2.wav\n",
            "Warning: File not found: /content/drive/My Drive/UrbanSound8K/UrbanSound8K/audio/fold10/188813-7-10-3.wav\n",
            "Warning: File not found: /content/drive/My Drive/UrbanSound8K/UrbanSound8K/audio/fold10/188813-7-11-0.wav\n",
            "Warning: File not found: /content/drive/My Drive/UrbanSound8K/UrbanSound8K/audio/fold10/188813-7-11-1.wav\n"
          ]
        },
        {
          "output_type": "stream",
          "name": "stderr",
          "text": [
            "\r 53%|█████▎    | 4665/8732 [33:19<07:50,  8.65it/s]"
          ]
        },
        {
          "output_type": "stream",
          "name": "stdout",
          "text": [
            "Warning: File not found: /content/drive/My Drive/UrbanSound8K/UrbanSound8K/audio/fold10/188813-7-13-0.wav\n"
          ]
        },
        {
          "output_type": "stream",
          "name": "stderr",
          "text": [
            "\r 53%|█████▎    | 4667/8732 [33:19<10:49,  6.26it/s]"
          ]
        },
        {
          "output_type": "stream",
          "name": "stdout",
          "text": [
            "Warning: File not found: /content/drive/My Drive/UrbanSound8K/UrbanSound8K/audio/fold10/188813-7-3-0.wav\n",
            "Warning: File not found: /content/drive/My Drive/UrbanSound8K/UrbanSound8K/audio/fold10/188813-7-4-0.wav\n",
            "Warning: File not found: /content/drive/My Drive/UrbanSound8K/UrbanSound8K/audio/fold10/188813-7-5-0.wav\n",
            "Warning: File not found: /content/drive/My Drive/UrbanSound8K/UrbanSound8K/audio/fold10/188813-7-6-0.wav\n",
            "Warning: File not found: /content/drive/My Drive/UrbanSound8K/UrbanSound8K/audio/fold10/188813-7-7-0.wav\n",
            "Warning: File not found: /content/drive/My Drive/UrbanSound8K/UrbanSound8K/audio/fold10/188813-7-8-0.wav\n",
            "Warning: File not found: /content/drive/My Drive/UrbanSound8K/UrbanSound8K/audio/fold10/188813-7-9-0.wav\n"
          ]
        },
        {
          "output_type": "stream",
          "name": "stderr",
          "text": [
            " 56%|█████▌    | 4863/8732 [34:54<39:26,  1.64it/s]"
          ]
        },
        {
          "output_type": "stream",
          "name": "stdout",
          "text": [
            "Warning: File not found: /content/drive/My Drive/UrbanSound8K/UrbanSound8K/audio/fold2/192269-2-0-1.wav\n",
            "Warning: File not found: /content/drive/My Drive/UrbanSound8K/UrbanSound8K/audio/fold2/192269-2-0-11.wav\n",
            "Warning: File not found: /content/drive/My Drive/UrbanSound8K/UrbanSound8K/audio/fold2/192269-2-0-18.wav\n",
            "Warning: File not found: /content/drive/My Drive/UrbanSound8K/UrbanSound8K/audio/fold2/192269-2-0-24.wav\n",
            "Warning: File not found: /content/drive/My Drive/UrbanSound8K/UrbanSound8K/audio/fold2/192269-2-0-35.wav\n",
            "Warning: File not found: /content/drive/My Drive/UrbanSound8K/UrbanSound8K/audio/fold2/192269-2-0-37.wav\n",
            "Warning: File not found: /content/drive/My Drive/UrbanSound8K/UrbanSound8K/audio/fold2/192269-2-0-54.wav\n",
            "Warning: File not found: /content/drive/My Drive/UrbanSound8K/UrbanSound8K/audio/fold2/192269-2-0-56.wav\n"
          ]
        },
        {
          "output_type": "stream",
          "name": "stderr",
          "text": [
            " 56%|█████▌    | 4883/8732 [35:00<28:48,  2.23it/s]"
          ]
        },
        {
          "output_type": "stream",
          "name": "stdout",
          "text": [
            "Warning: File not found: /content/drive/My Drive/UrbanSound8K/UrbanSound8K/audio/fold1/193394-3-0-10.wav\n",
            "Warning: File not found: /content/drive/My Drive/UrbanSound8K/UrbanSound8K/audio/fold1/193394-3-0-11.wav\n",
            "Warning: File not found: /content/drive/My Drive/UrbanSound8K/UrbanSound8K/audio/fold1/193394-3-0-4.wav\n",
            "Warning: File not found: /content/drive/My Drive/UrbanSound8K/UrbanSound8K/audio/fold1/193394-3-0-7.wav\n"
          ]
        },
        {
          "output_type": "stream",
          "name": "stderr",
          "text": [
            " 56%|█████▌    | 4894/8732 [35:03<29:29,  2.17it/s]"
          ]
        },
        {
          "output_type": "stream",
          "name": "stdout",
          "text": [
            "Warning: File not found: /content/drive/My Drive/UrbanSound8K/UrbanSound8K/audio/fold1/193698-2-0-112.wav\n",
            "Warning: File not found: /content/drive/My Drive/UrbanSound8K/UrbanSound8K/audio/fold1/193698-2-0-113.wav\n",
            "Warning: File not found: /content/drive/My Drive/UrbanSound8K/UrbanSound8K/audio/fold1/193698-2-0-114.wav\n",
            "Warning: File not found: /content/drive/My Drive/UrbanSound8K/UrbanSound8K/audio/fold1/193698-2-0-140.wav\n",
            "Warning: File not found: /content/drive/My Drive/UrbanSound8K/UrbanSound8K/audio/fold1/193698-2-0-42.wav\n",
            "Warning: File not found: /content/drive/My Drive/UrbanSound8K/UrbanSound8K/audio/fold1/193698-2-0-58.wav\n",
            "Warning: File not found: /content/drive/My Drive/UrbanSound8K/UrbanSound8K/audio/fold1/193698-2-0-64.wav\n",
            "Warning: File not found: /content/drive/My Drive/UrbanSound8K/UrbanSound8K/audio/fold1/193698-2-0-89.wav\n"
          ]
        },
        {
          "output_type": "stream",
          "name": "stderr",
          "text": [
            " 56%|█████▋    | 4927/8732 [35:16<31:03,  2.04it/s]"
          ]
        },
        {
          "output_type": "stream",
          "name": "stdout",
          "text": [
            "Warning: File not found: /content/drive/My Drive/UrbanSound8K/UrbanSound8K/audio/fold1/194732-9-0-126.wav\n",
            "Warning: File not found: /content/drive/My Drive/UrbanSound8K/UrbanSound8K/audio/fold1/194732-9-0-163.wav\n",
            "Warning: File not found: /content/drive/My Drive/UrbanSound8K/UrbanSound8K/audio/fold1/194732-9-0-171.wav\n",
            "Warning: File not found: /content/drive/My Drive/UrbanSound8K/UrbanSound8K/audio/fold1/194732-9-0-175.wav\n",
            "Warning: File not found: /content/drive/My Drive/UrbanSound8K/UrbanSound8K/audio/fold1/194732-9-0-191.wav\n",
            "Warning: File not found: /content/drive/My Drive/UrbanSound8K/UrbanSound8K/audio/fold1/194732-9-0-41.wav\n",
            "Warning: File not found: /content/drive/My Drive/UrbanSound8K/UrbanSound8K/audio/fold1/194732-9-0-95.wav\n"
          ]
        },
        {
          "output_type": "stream",
          "name": "stderr",
          "text": [
            " 57%|█████▋    | 4948/8732 [35:24<29:47,  2.12it/s]"
          ]
        },
        {
          "output_type": "stream",
          "name": "stdout",
          "text": [
            "Warning: File not found: /content/drive/My Drive/UrbanSound8K/UrbanSound8K/audio/fold2/194841-9-0-130.wav\n",
            "Warning: File not found: /content/drive/My Drive/UrbanSound8K/UrbanSound8K/audio/fold2/194841-9-0-144.wav\n",
            "Warning: File not found: /content/drive/My Drive/UrbanSound8K/UrbanSound8K/audio/fold2/194841-9-0-164.wav\n",
            "Warning: File not found: /content/drive/My Drive/UrbanSound8K/UrbanSound8K/audio/fold2/194841-9-0-178.wav\n",
            "Warning: File not found: /content/drive/My Drive/UrbanSound8K/UrbanSound8K/audio/fold2/194841-9-0-222.wav\n",
            "Warning: File not found: /content/drive/My Drive/UrbanSound8K/UrbanSound8K/audio/fold2/194841-9-0-48.wav\n"
          ]
        },
        {
          "output_type": "stream",
          "name": "stderr",
          "text": [
            " 58%|█████▊    | 5064/8732 [36:17<24:29,  2.50it/s]"
          ]
        },
        {
          "output_type": "stream",
          "name": "stdout",
          "text": [
            "Warning: File not found: /content/drive/My Drive/UrbanSound8K/UrbanSound8K/audio/fold10/196127-3-0-0.wav\n",
            "Warning: File not found: /content/drive/My Drive/UrbanSound8K/UrbanSound8K/audio/fold10/196127-3-0-1.wav\n",
            "Warning: File not found: /content/drive/My Drive/UrbanSound8K/UrbanSound8K/audio/fold10/196127-3-0-3.wav\n",
            "Warning: File not found: /content/drive/My Drive/UrbanSound8K/UrbanSound8K/audio/fold10/196127-3-0-4.wav\n"
          ]
        },
        {
          "output_type": "stream",
          "name": "stderr",
          "text": [
            " 58%|█████▊    | 5081/8732 [36:24<29:39,  2.05it/s]"
          ]
        },
        {
          "output_type": "stream",
          "name": "stdout",
          "text": [
            "Warning: File not found: /content/drive/My Drive/UrbanSound8K/UrbanSound8K/audio/fold1/197073-3-4-3.wav\n",
            "Warning: File not found: /content/drive/My Drive/UrbanSound8K/UrbanSound8K/audio/fold1/197073-3-7-0.wav\n"
          ]
        },
        {
          "output_type": "stream",
          "name": "stderr",
          "text": [
            " 59%|█████▊    | 5122/8732 [36:43<29:38,  2.03it/s]"
          ]
        },
        {
          "output_type": "stream",
          "name": "stdout",
          "text": [
            "Warning: File not found: /content/drive/My Drive/UrbanSound8K/UrbanSound8K/audio/fold10/197554-2-0-23.wav\n",
            "Warning: File not found: /content/drive/My Drive/UrbanSound8K/UrbanSound8K/audio/fold10/197554-2-0-26.wav\n",
            "Warning: File not found: /content/drive/My Drive/UrbanSound8K/UrbanSound8K/audio/fold10/197554-2-0-28.wav\n",
            "Warning: File not found: /content/drive/My Drive/UrbanSound8K/UrbanSound8K/audio/fold10/197554-2-0-3.wav\n",
            "Warning: File not found: /content/drive/My Drive/UrbanSound8K/UrbanSound8K/audio/fold10/197554-2-0-60.wav\n",
            "Warning: File not found: /content/drive/My Drive/UrbanSound8K/UrbanSound8K/audio/fold10/197554-2-0-69.wav\n",
            "Warning: File not found: /content/drive/My Drive/UrbanSound8K/UrbanSound8K/audio/fold10/197554-2-0-74.wav\n",
            "Warning: File not found: /content/drive/My Drive/UrbanSound8K/UrbanSound8K/audio/fold10/197554-2-0-82.wav\n",
            "Warning: File not found: /content/drive/My Drive/UrbanSound8K/UrbanSound8K/audio/fold10/199261-3-0-0.wav\n",
            "Warning: File not found: /content/drive/My Drive/UrbanSound8K/UrbanSound8K/audio/fold10/199261-3-0-1.wav\n",
            "Warning: File not found: /content/drive/My Drive/UrbanSound8K/UrbanSound8K/audio/fold10/199261-3-0-2.wav\n",
            "Warning: File not found: /content/drive/My Drive/UrbanSound8K/UrbanSound8K/audio/fold10/199261-3-0-4.wav\n"
          ]
        },
        {
          "output_type": "stream",
          "name": "stderr",
          "text": [
            " 59%|█████▉    | 5181/8732 [37:06<31:36,  1.87it/s]"
          ]
        },
        {
          "output_type": "stream",
          "name": "stdout",
          "text": [
            "Warning: File not found: /content/drive/My Drive/UrbanSound8K/UrbanSound8K/audio/fold2/201652-5-0-0.wav\n",
            "Warning: File not found: /content/drive/My Drive/UrbanSound8K/UrbanSound8K/audio/fold2/201652-5-0-1.wav\n",
            "Warning: File not found: /content/drive/My Drive/UrbanSound8K/UrbanSound8K/audio/fold2/201652-5-0-2.wav\n",
            "Warning: File not found: /content/drive/My Drive/UrbanSound8K/UrbanSound8K/audio/fold2/201652-5-0-3.wav\n",
            "Warning: File not found: /content/drive/My Drive/UrbanSound8K/UrbanSound8K/audio/fold2/201652-5-1-0.wav\n",
            "Warning: File not found: /content/drive/My Drive/UrbanSound8K/UrbanSound8K/audio/fold2/201652-5-2-0.wav\n",
            "Warning: File not found: /content/drive/My Drive/UrbanSound8K/UrbanSound8K/audio/fold2/201652-5-2-1.wav\n",
            "Warning: File not found: /content/drive/My Drive/UrbanSound8K/UrbanSound8K/audio/fold2/201652-5-2-2.wav\n",
            "Warning: File not found: /content/drive/My Drive/UrbanSound8K/UrbanSound8K/audio/fold2/201652-5-2-3.wav\n",
            "Warning: File not found: /content/drive/My Drive/UrbanSound8K/UrbanSound8K/audio/fold2/201652-5-2-4.wav\n",
            "Warning: File not found: /content/drive/My Drive/UrbanSound8K/UrbanSound8K/audio/fold2/201652-5-2-5.wav\n",
            "Warning: File not found: /content/drive/My Drive/UrbanSound8K/UrbanSound8K/audio/fold2/201652-5-3-0.wav\n",
            "Warning: File not found: /content/drive/My Drive/UrbanSound8K/UrbanSound8K/audio/fold2/201652-5-3-1.wav\n",
            "Warning: File not found: /content/drive/My Drive/UrbanSound8K/UrbanSound8K/audio/fold2/201652-5-3-2.wav\n",
            "Warning: File not found: /content/drive/My Drive/UrbanSound8K/UrbanSound8K/audio/fold2/201652-5-3-3.wav\n",
            "Warning: File not found: /content/drive/My Drive/UrbanSound8K/UrbanSound8K/audio/fold2/201652-5-3-4.wav\n",
            "Warning: File not found: /content/drive/My Drive/UrbanSound8K/UrbanSound8K/audio/fold2/201652-5-4-0.wav\n",
            "Warning: File not found: /content/drive/My Drive/UrbanSound8K/UrbanSound8K/audio/fold2/201652-5-4-1.wav\n",
            "Warning: File not found: /content/drive/My Drive/UrbanSound8K/UrbanSound8K/audio/fold2/201652-5-4-2.wav\n",
            "Warning: File not found: /content/drive/My Drive/UrbanSound8K/UrbanSound8K/audio/fold2/201652-5-4-3.wav\n",
            "Warning: File not found: /content/drive/My Drive/UrbanSound8K/UrbanSound8K/audio/fold2/201652-5-4-4.wav\n",
            "Warning: File not found: /content/drive/My Drive/UrbanSound8K/UrbanSound8K/audio/fold2/201652-5-4-5.wav\n",
            "Warning: File not found: /content/drive/My Drive/UrbanSound8K/UrbanSound8K/audio/fold2/201652-5-4-6.wav\n",
            "Warning: File not found: /content/drive/My Drive/UrbanSound8K/UrbanSound8K/audio/fold2/201652-5-4-7.wav\n",
            "Warning: File not found: /content/drive/My Drive/UrbanSound8K/UrbanSound8K/audio/fold2/201652-5-4-8.wav\n",
            "Warning: File not found: /content/drive/My Drive/UrbanSound8K/UrbanSound8K/audio/fold2/201652-5-4-9.wav\n",
            "Warning: File not found: /content/drive/My Drive/UrbanSound8K/UrbanSound8K/audio/fold2/201652-5-5-0.wav\n",
            "Warning: File not found: /content/drive/My Drive/UrbanSound8K/UrbanSound8K/audio/fold2/201652-5-5-1.wav\n",
            "Warning: File not found: /content/drive/My Drive/UrbanSound8K/UrbanSound8K/audio/fold2/201652-5-5-2.wav\n",
            "Warning: File not found: /content/drive/My Drive/UrbanSound8K/UrbanSound8K/audio/fold2/201652-5-5-3.wav\n",
            "Warning: File not found: /content/drive/My Drive/UrbanSound8K/UrbanSound8K/audio/fold2/201652-5-5-4.wav\n",
            "Warning: File not found: /content/drive/My Drive/UrbanSound8K/UrbanSound8K/audio/fold2/201652-5-5-5.wav\n"
          ]
        },
        {
          "output_type": "stream",
          "name": "stderr",
          "text": [
            " 60%|█████▉    | 5237/8732 [37:18<25:58,  2.24it/s]"
          ]
        },
        {
          "output_type": "stream",
          "name": "stdout",
          "text": [
            "Warning: File not found: /content/drive/My Drive/UrbanSound8K/UrbanSound8K/audio/fold10/202334-9-0-105.wav\n",
            "Warning: File not found: /content/drive/My Drive/UrbanSound8K/UrbanSound8K/audio/fold10/202334-9-0-106.wav\n",
            "Warning: File not found: /content/drive/My Drive/UrbanSound8K/UrbanSound8K/audio/fold10/202334-9-0-137.wav\n",
            "Warning: File not found: /content/drive/My Drive/UrbanSound8K/UrbanSound8K/audio/fold10/202334-9-0-202.wav\n",
            "Warning: File not found: /content/drive/My Drive/UrbanSound8K/UrbanSound8K/audio/fold10/202334-9-0-63.wav\n",
            "Warning: File not found: /content/drive/My Drive/UrbanSound8K/UrbanSound8K/audio/fold10/202334-9-0-88.wav\n"
          ]
        },
        {
          "output_type": "stream",
          "name": "stderr",
          "text": [
            " 60%|██████    | 5266/8732 [37:29<24:33,  2.35it/s]"
          ]
        },
        {
          "output_type": "stream",
          "name": "stdout",
          "text": [
            "Warning: File not found: /content/drive/My Drive/UrbanSound8K/UrbanSound8K/audio/fold1/203356-3-0-0.wav\n",
            "Warning: File not found: /content/drive/My Drive/UrbanSound8K/UrbanSound8K/audio/fold1/203356-3-0-1.wav\n",
            "Warning: File not found: /content/drive/My Drive/UrbanSound8K/UrbanSound8K/audio/fold1/203356-3-0-2.wav\n",
            "Warning: File not found: /content/drive/My Drive/UrbanSound8K/UrbanSound8K/audio/fold1/203356-3-0-3.wav\n"
          ]
        },
        {
          "output_type": "stream",
          "name": "stderr",
          "text": [
            " 61%|██████    | 5306/8732 [37:46<28:23,  2.01it/s]"
          ]
        },
        {
          "output_type": "stream",
          "name": "stdout",
          "text": [
            "Warning: File not found: /content/drive/My Drive/UrbanSound8K/UrbanSound8K/audio/fold2/203929-7-1-0.wav\n",
            "Warning: File not found: /content/drive/My Drive/UrbanSound8K/UrbanSound8K/audio/fold2/203929-7-1-1.wav\n",
            "Warning: File not found: /content/drive/My Drive/UrbanSound8K/UrbanSound8K/audio/fold2/203929-7-1-2.wav\n",
            "Warning: File not found: /content/drive/My Drive/UrbanSound8K/UrbanSound8K/audio/fold2/203929-7-1-3.wav\n",
            "Warning: File not found: /content/drive/My Drive/UrbanSound8K/UrbanSound8K/audio/fold2/203929-7-1-6.wav\n",
            "Warning: File not found: /content/drive/My Drive/UrbanSound8K/UrbanSound8K/audio/fold2/203929-7-1-7.wav\n",
            "Warning: File not found: /content/drive/My Drive/UrbanSound8K/UrbanSound8K/audio/fold2/203929-7-1-8.wav\n",
            "Warning: File not found: /content/drive/My Drive/UrbanSound8K/UrbanSound8K/audio/fold2/203929-7-10-0.wav\n",
            "Warning: File not found: /content/drive/My Drive/UrbanSound8K/UrbanSound8K/audio/fold2/203929-7-10-1.wav\n",
            "Warning: File not found: /content/drive/My Drive/UrbanSound8K/UrbanSound8K/audio/fold2/203929-7-10-2.wav\n",
            "Warning: File not found: /content/drive/My Drive/UrbanSound8K/UrbanSound8K/audio/fold2/203929-7-2-0.wav\n",
            "Warning: File not found: /content/drive/My Drive/UrbanSound8K/UrbanSound8K/audio/fold2/203929-7-2-11.wav\n",
            "Warning: File not found: /content/drive/My Drive/UrbanSound8K/UrbanSound8K/audio/fold2/203929-7-2-2.wav\n",
            "Warning: File not found: /content/drive/My Drive/UrbanSound8K/UrbanSound8K/audio/fold2/203929-7-2-3.wav\n",
            "Warning: File not found: /content/drive/My Drive/UrbanSound8K/UrbanSound8K/audio/fold2/203929-7-2-5.wav\n",
            "Warning: File not found: /content/drive/My Drive/UrbanSound8K/UrbanSound8K/audio/fold2/203929-7-2-6.wav\n",
            "Warning: File not found: /content/drive/My Drive/UrbanSound8K/UrbanSound8K/audio/fold2/203929-7-2-8.wav\n",
            "Warning: File not found: /content/drive/My Drive/UrbanSound8K/UrbanSound8K/audio/fold2/203929-7-2-9.wav\n",
            "Warning: File not found: /content/drive/My Drive/UrbanSound8K/UrbanSound8K/audio/fold2/203929-7-3-1.wav\n",
            "Warning: File not found: /content/drive/My Drive/UrbanSound8K/UrbanSound8K/audio/fold2/203929-7-3-10.wav\n",
            "Warning: File not found: /content/drive/My Drive/UrbanSound8K/UrbanSound8K/audio/fold2/203929-7-3-2.wav\n",
            "Warning: File not found: /content/drive/My Drive/UrbanSound8K/UrbanSound8K/audio/fold2/203929-7-3-3.wav\n",
            "Warning: File not found: /content/drive/My Drive/UrbanSound8K/UrbanSound8K/audio/fold2/203929-7-3-5.wav\n",
            "Warning: File not found: /content/drive/My Drive/UrbanSound8K/UrbanSound8K/audio/fold2/203929-7-3-9.wav\n",
            "Warning: File not found: /content/drive/My Drive/UrbanSound8K/UrbanSound8K/audio/fold2/203929-7-4-0.wav\n",
            "Warning: File not found: /content/drive/My Drive/UrbanSound8K/UrbanSound8K/audio/fold2/203929-7-4-1.wav\n",
            "Warning: File not found: /content/drive/My Drive/UrbanSound8K/UrbanSound8K/audio/fold2/203929-7-4-10.wav\n",
            "Warning: File not found: /content/drive/My Drive/UrbanSound8K/UrbanSound8K/audio/fold2/203929-7-4-11.wav\n",
            "Warning: File not found: /content/drive/My Drive/UrbanSound8K/UrbanSound8K/audio/fold2/203929-7-4-12.wav\n",
            "Warning: File not found: /content/drive/My Drive/UrbanSound8K/UrbanSound8K/audio/fold2/203929-7-4-2.wav\n",
            "Warning: File not found: /content/drive/My Drive/UrbanSound8K/UrbanSound8K/audio/fold2/203929-7-4-4.wav\n",
            "Warning: File not found: /content/drive/My Drive/UrbanSound8K/UrbanSound8K/audio/fold2/203929-7-4-6.wav\n",
            "Warning: File not found: /content/drive/My Drive/UrbanSound8K/UrbanSound8K/audio/fold2/203929-7-4-7.wav\n",
            "Warning: File not found: /content/drive/My Drive/UrbanSound8K/UrbanSound8K/audio/fold2/203929-7-4-8.wav\n",
            "Warning: File not found: /content/drive/My Drive/UrbanSound8K/UrbanSound8K/audio/fold2/203929-7-5-0.wav\n",
            "Warning: File not found: /content/drive/My Drive/UrbanSound8K/UrbanSound8K/audio/fold2/203929-7-5-1.wav\n",
            "Warning: File not found: /content/drive/My Drive/UrbanSound8K/UrbanSound8K/audio/fold2/203929-7-5-10.wav\n",
            "Warning: File not found: /content/drive/My Drive/UrbanSound8K/UrbanSound8K/audio/fold2/203929-7-5-11.wav\n",
            "Warning: File not found: /content/drive/My Drive/UrbanSound8K/UrbanSound8K/audio/fold2/203929-7-5-6.wav\n",
            "Warning: File not found: /content/drive/My Drive/UrbanSound8K/UrbanSound8K/audio/fold2/203929-7-5-7.wav\n",
            "Warning: File not found: /content/drive/My Drive/UrbanSound8K/UrbanSound8K/audio/fold2/203929-7-6-1.wav\n",
            "Warning: File not found: /content/drive/My Drive/UrbanSound8K/UrbanSound8K/audio/fold2/203929-7-6-10.wav\n",
            "Warning: File not found: /content/drive/My Drive/UrbanSound8K/UrbanSound8K/audio/fold2/203929-7-6-11.wav\n",
            "Warning: File not found: /content/drive/My Drive/UrbanSound8K/UrbanSound8K/audio/fold2/203929-7-6-2.wav\n",
            "Warning: File not found: /content/drive/My Drive/UrbanSound8K/UrbanSound8K/audio/fold2/203929-7-6-3.wav\n",
            "Warning: File not found: /content/drive/My Drive/UrbanSound8K/UrbanSound8K/audio/fold2/203929-7-6-8.wav\n",
            "Warning: File not found: /content/drive/My Drive/UrbanSound8K/UrbanSound8K/audio/fold2/203929-7-6-9.wav\n",
            "Warning: File not found: /content/drive/My Drive/UrbanSound8K/UrbanSound8K/audio/fold2/203929-7-7-0.wav\n",
            "Warning: File not found: /content/drive/My Drive/UrbanSound8K/UrbanSound8K/audio/fold2/203929-7-7-10.wav\n",
            "Warning: File not found: /content/drive/My Drive/UrbanSound8K/UrbanSound8K/audio/fold2/203929-7-7-12.wav\n",
            "Warning: File not found: /content/drive/My Drive/UrbanSound8K/UrbanSound8K/audio/fold2/203929-7-7-13.wav\n",
            "Warning: File not found: /content/drive/My Drive/UrbanSound8K/UrbanSound8K/audio/fold2/203929-7-7-14.wav\n",
            "Warning: File not found: /content/drive/My Drive/UrbanSound8K/UrbanSound8K/audio/fold2/203929-7-7-15.wav\n",
            "Warning: File not found: /content/drive/My Drive/UrbanSound8K/UrbanSound8K/audio/fold2/203929-7-7-16.wav\n",
            "Warning: File not found: /content/drive/My Drive/UrbanSound8K/UrbanSound8K/audio/fold2/203929-7-7-2.wav\n",
            "Warning: File not found: /content/drive/My Drive/UrbanSound8K/UrbanSound8K/audio/fold2/203929-7-7-3.wav\n",
            "Warning: File not found: /content/drive/My Drive/UrbanSound8K/UrbanSound8K/audio/fold2/203929-7-7-4.wav\n",
            "Warning: File not found: /content/drive/My Drive/UrbanSound8K/UrbanSound8K/audio/fold2/203929-7-7-9.wav\n",
            "Warning: File not found: /content/drive/My Drive/UrbanSound8K/UrbanSound8K/audio/fold2/203929-7-8-0.wav\n",
            "Warning: File not found: /content/drive/My Drive/UrbanSound8K/UrbanSound8K/audio/fold2/203929-7-9-0.wav\n",
            "Warning: File not found: /content/drive/My Drive/UrbanSound8K/UrbanSound8K/audio/fold2/203929-7-9-11.wav\n",
            "Warning: File not found: /content/drive/My Drive/UrbanSound8K/UrbanSound8K/audio/fold2/203929-7-9-12.wav\n",
            "Warning: File not found: /content/drive/My Drive/UrbanSound8K/UrbanSound8K/audio/fold2/203929-7-9-15.wav\n",
            "Warning: File not found: /content/drive/My Drive/UrbanSound8K/UrbanSound8K/audio/fold2/203929-7-9-17.wav\n",
            "Warning: File not found: /content/drive/My Drive/UrbanSound8K/UrbanSound8K/audio/fold2/203929-7-9-18.wav\n",
            "Warning: File not found: /content/drive/My Drive/UrbanSound8K/UrbanSound8K/audio/fold2/203929-7-9-19.wav\n",
            "Warning: File not found: /content/drive/My Drive/UrbanSound8K/UrbanSound8K/audio/fold2/203929-7-9-20.wav\n",
            "Warning: File not found: /content/drive/My Drive/UrbanSound8K/UrbanSound8K/audio/fold2/203929-7-9-24.wav\n",
            "Warning: File not found: /content/drive/My Drive/UrbanSound8K/UrbanSound8K/audio/fold2/203929-7-9-4.wav\n",
            "Warning: File not found: /content/drive/My Drive/UrbanSound8K/UrbanSound8K/audio/fold2/203929-7-9-6.wav\n",
            "Warning: File not found: /content/drive/My Drive/UrbanSound8K/UrbanSound8K/audio/fold2/203929-7-9-8.wav\n",
            "Warning: File not found: /content/drive/My Drive/UrbanSound8K/UrbanSound8K/audio/fold2/203929-7-9-9.wav\n"
          ]
        },
        {
          "output_type": "stream",
          "name": "stderr",
          "text": [
            " 63%|██████▎   | 5493/8732 [38:41<24:40,  2.19it/s]"
          ]
        },
        {
          "output_type": "stream",
          "name": "stdout",
          "text": [
            "Warning: File not found: /content/drive/My Drive/UrbanSound8K/UrbanSound8K/audio/fold10/207213-2-0-109.wav\n",
            "Warning: File not found: /content/drive/My Drive/UrbanSound8K/UrbanSound8K/audio/fold10/207213-2-0-130.wav\n",
            "Warning: File not found: /content/drive/My Drive/UrbanSound8K/UrbanSound8K/audio/fold10/207213-2-0-134.wav\n",
            "Warning: File not found: /content/drive/My Drive/UrbanSound8K/UrbanSound8K/audio/fold10/207213-2-0-41.wav\n",
            "Warning: File not found: /content/drive/My Drive/UrbanSound8K/UrbanSound8K/audio/fold10/207213-2-0-52.wav\n",
            "Warning: File not found: /content/drive/My Drive/UrbanSound8K/UrbanSound8K/audio/fold10/207213-2-0-73.wav\n",
            "Warning: File not found: /content/drive/My Drive/UrbanSound8K/UrbanSound8K/audio/fold10/207213-2-0-81.wav\n",
            "Warning: File not found: /content/drive/My Drive/UrbanSound8K/UrbanSound8K/audio/fold10/207213-2-0-85.wav\n"
          ]
        },
        {
          "output_type": "stream",
          "name": "stderr",
          "text": [
            " 77%|███████▋  | 6753/8732 [48:49<12:38,  2.61it/s]"
          ]
        },
        {
          "output_type": "stream",
          "name": "stdout",
          "text": [
            "Warning: File not found: /content/drive/My Drive/UrbanSound8K/UrbanSound8K/audio/fold2/54545-3-0-0.wav\n",
            "Warning: File not found: /content/drive/My Drive/UrbanSound8K/UrbanSound8K/audio/fold2/54545-3-0-1.wav\n",
            "Warning: File not found: /content/drive/My Drive/UrbanSound8K/UrbanSound8K/audio/fold2/54545-3-0-2.wav\n"
          ]
        },
        {
          "output_type": "stream",
          "name": "stderr",
          "text": [
            " 77%|███████▋  | 6764/8732 [48:53<14:49,  2.21it/s]"
          ]
        },
        {
          "output_type": "stream",
          "name": "stdout",
          "text": [
            "Warning: File not found: /content/drive/My Drive/UrbanSound8K/UrbanSound8K/audio/fold1/54858-3-0-0.wav\n",
            "Warning: File not found: /content/drive/My Drive/UrbanSound8K/UrbanSound8K/audio/fold1/54858-3-1-2.wav\n"
          ]
        },
        {
          "output_type": "stream",
          "name": "stderr",
          "text": [
            " 84%|████████▎ | 7297/8732 [53:14<12:01,  1.99it/s]"
          ]
        },
        {
          "output_type": "stream",
          "name": "stdout",
          "text": [
            "Warning: File not found: /content/drive/My Drive/UrbanSound8K/UrbanSound8K/audio/fold2/66996-8-1-0.wav\n",
            "Warning: File not found: /content/drive/My Drive/UrbanSound8K/UrbanSound8K/audio/fold2/66996-8-3-0.wav\n"
          ]
        },
        {
          "output_type": "stream",
          "name": "stderr",
          "text": [
            " 84%|████████▍ | 7354/8732 [53:39<10:38,  2.16it/s]"
          ]
        },
        {
          "output_type": "stream",
          "name": "stdout",
          "text": [
            "Warning: File not found: /content/drive/My Drive/UrbanSound8K/UrbanSound8K/audio/fold2/69883-3-0-20.wav\n",
            "Warning: File not found: /content/drive/My Drive/UrbanSound8K/UrbanSound8K/audio/fold2/69883-3-0-5.wav\n",
            "Warning: File not found: /content/drive/My Drive/UrbanSound8K/UrbanSound8K/audio/fold2/69883-3-0-9.wav\n"
          ]
        },
        {
          "output_type": "stream",
          "name": "stderr",
          "text": [
            " 90%|████████▉ | 7850/8732 [57:47<06:47,  2.17it/s]"
          ]
        },
        {
          "output_type": "stream",
          "name": "stdout",
          "text": [
            "Warning: File not found: /content/drive/My Drive/UrbanSound8K/UrbanSound8K/audio/fold10/74922-4-0-0.wav\n",
            "Warning: File not found: /content/drive/My Drive/UrbanSound8K/UrbanSound8K/audio/fold10/74922-4-0-1.wav\n",
            "Warning: File not found: /content/drive/My Drive/UrbanSound8K/UrbanSound8K/audio/fold10/74922-4-0-2.wav\n",
            "Warning: File not found: /content/drive/My Drive/UrbanSound8K/UrbanSound8K/audio/fold10/74922-4-0-3.wav\n",
            "Warning: File not found: /content/drive/My Drive/UrbanSound8K/UrbanSound8K/audio/fold10/74922-4-0-4.wav\n",
            "Warning: File not found: /content/drive/My Drive/UrbanSound8K/UrbanSound8K/audio/fold10/74922-4-0-5.wav\n",
            "Warning: File not found: /content/drive/My Drive/UrbanSound8K/UrbanSound8K/audio/fold10/74922-4-0-6.wav\n",
            "Warning: File not found: /content/drive/My Drive/UrbanSound8K/UrbanSound8K/audio/fold10/74922-4-0-7.wav\n"
          ]
        },
        {
          "output_type": "stream",
          "name": "stderr",
          "text": [
            " 95%|█████████▌| 8326/8732 [1:01:46<03:45,  1.80it/s]/usr/local/lib/python3.11/dist-packages/librosa/core/spectrum.py:266: UserWarning: n_fft=2048 is too large for input signal of length=1103\n",
            "  warnings.warn(\n",
            " 95%|█████████▌| 8329/8732 [1:01:47<03:01,  2.22it/s]/usr/local/lib/python3.11/dist-packages/librosa/core/spectrum.py:266: UserWarning: n_fft=2048 is too large for input signal of length=1523\n",
            "  warnings.warn(\n",
            " 98%|█████████▊| 8561/8732 [1:03:50<01:12,  2.34it/s]"
          ]
        },
        {
          "output_type": "stream",
          "name": "stdout",
          "text": [
            "Warning: File not found: /content/drive/My Drive/UrbanSound8K/UrbanSound8K/audio/fold2/96169-9-1-10.wav\n",
            "Warning: File not found: /content/drive/My Drive/UrbanSound8K/UrbanSound8K/audio/fold2/96169-9-1-3.wav\n",
            "Warning: File not found: /content/drive/My Drive/UrbanSound8K/UrbanSound8K/audio/fold2/96169-9-1-49.wav\n",
            "Warning: File not found: /content/drive/My Drive/UrbanSound8K/UrbanSound8K/audio/fold2/96169-9-1-55.wav\n",
            "Warning: File not found: /content/drive/My Drive/UrbanSound8K/UrbanSound8K/audio/fold2/96169-9-1-61.wav\n",
            "Warning: File not found: /content/drive/My Drive/UrbanSound8K/UrbanSound8K/audio/fold2/96169-9-1-74.wav\n",
            "Warning: File not found: /content/drive/My Drive/UrbanSound8K/UrbanSound8K/audio/fold2/96475-9-0-0.wav\n",
            "Warning: File not found: /content/drive/My Drive/UrbanSound8K/UrbanSound8K/audio/fold2/96475-9-0-3.wav\n",
            "Warning: File not found: /content/drive/My Drive/UrbanSound8K/UrbanSound8K/audio/fold2/96475-9-0-4.wav\n",
            "Warning: File not found: /content/drive/My Drive/UrbanSound8K/UrbanSound8K/audio/fold2/96475-9-0-5.wav\n",
            "Warning: File not found: /content/drive/My Drive/UrbanSound8K/UrbanSound8K/audio/fold2/96475-9-0-6.wav\n",
            "Warning: File not found: /content/drive/My Drive/UrbanSound8K/UrbanSound8K/audio/fold2/96475-9-0-9.wav\n"
          ]
        },
        {
          "output_type": "stream",
          "name": "stderr",
          "text": [
            " 99%|█████████▊| 8619/8732 [1:04:12<00:56,  1.99it/s]"
          ]
        },
        {
          "output_type": "stream",
          "name": "stdout",
          "text": [
            "Warning: File not found: /content/drive/My Drive/UrbanSound8K/UrbanSound8K/audio/fold2/98202-9-0-10.wav\n",
            "Warning: File not found: /content/drive/My Drive/UrbanSound8K/UrbanSound8K/audio/fold2/98202-9-0-4.wav\n",
            "Warning: File not found: /content/drive/My Drive/UrbanSound8K/UrbanSound8K/audio/fold2/98202-9-0-7.wav\n",
            "Warning: File not found: /content/drive/My Drive/UrbanSound8K/UrbanSound8K/audio/fold2/98202-9-1-20.wav\n",
            "Warning: File not found: /content/drive/My Drive/UrbanSound8K/UrbanSound8K/audio/fold2/98202-9-1-27.wav\n",
            "Warning: File not found: /content/drive/My Drive/UrbanSound8K/UrbanSound8K/audio/fold2/98202-9-1-5.wav\n"
          ]
        },
        {
          "output_type": "stream",
          "name": "stderr",
          "text": [
            "100%|██████████| 8732/8732 [1:05:02<00:00,  2.24it/s]\n"
          ]
        },
        {
          "output_type": "execute_result",
          "data": {
            "text/plain": [
              "                                             feature             class\n",
              "0  [[-335.0899, -176.70966, -98.33869, -65.15997,...          dog_bark\n",
              "1  [[-492.1376, -455.06793, -449.95038, -444.2668...  children_playing\n",
              "2  [[-496.66345, -471.2096, -479.95898, -485.4825...  children_playing\n",
              "3  [[-447.43988, -412.1046, -408.45084, -408.2987...  children_playing\n",
              "4  [[-473.87814, -438.34927, -442.38864, -441.715...  children_playing"
            ],
            "text/html": [
              "\n",
              "  <div id=\"df-b2e26607-8aea-4a39-be53-e650fae9be34\" class=\"colab-df-container\">\n",
              "    <div>\n",
              "<style scoped>\n",
              "    .dataframe tbody tr th:only-of-type {\n",
              "        vertical-align: middle;\n",
              "    }\n",
              "\n",
              "    .dataframe tbody tr th {\n",
              "        vertical-align: top;\n",
              "    }\n",
              "\n",
              "    .dataframe thead th {\n",
              "        text-align: right;\n",
              "    }\n",
              "</style>\n",
              "<table border=\"1\" class=\"dataframe\">\n",
              "  <thead>\n",
              "    <tr style=\"text-align: right;\">\n",
              "      <th></th>\n",
              "      <th>feature</th>\n",
              "      <th>class</th>\n",
              "    </tr>\n",
              "  </thead>\n",
              "  <tbody>\n",
              "    <tr>\n",
              "      <th>0</th>\n",
              "      <td>[[-335.0899, -176.70966, -98.33869, -65.15997,...</td>\n",
              "      <td>dog_bark</td>\n",
              "    </tr>\n",
              "    <tr>\n",
              "      <th>1</th>\n",
              "      <td>[[-492.1376, -455.06793, -449.95038, -444.2668...</td>\n",
              "      <td>children_playing</td>\n",
              "    </tr>\n",
              "    <tr>\n",
              "      <th>2</th>\n",
              "      <td>[[-496.66345, -471.2096, -479.95898, -485.4825...</td>\n",
              "      <td>children_playing</td>\n",
              "    </tr>\n",
              "    <tr>\n",
              "      <th>3</th>\n",
              "      <td>[[-447.43988, -412.1046, -408.45084, -408.2987...</td>\n",
              "      <td>children_playing</td>\n",
              "    </tr>\n",
              "    <tr>\n",
              "      <th>4</th>\n",
              "      <td>[[-473.87814, -438.34927, -442.38864, -441.715...</td>\n",
              "      <td>children_playing</td>\n",
              "    </tr>\n",
              "  </tbody>\n",
              "</table>\n",
              "</div>\n",
              "    <div class=\"colab-df-buttons\">\n",
              "\n",
              "  <div class=\"colab-df-container\">\n",
              "    <button class=\"colab-df-convert\" onclick=\"convertToInteractive('df-b2e26607-8aea-4a39-be53-e650fae9be34')\"\n",
              "            title=\"Convert this dataframe to an interactive table.\"\n",
              "            style=\"display:none;\">\n",
              "\n",
              "  <svg xmlns=\"http://www.w3.org/2000/svg\" height=\"24px\" viewBox=\"0 -960 960 960\">\n",
              "    <path d=\"M120-120v-720h720v720H120Zm60-500h600v-160H180v160Zm220 220h160v-160H400v160Zm0 220h160v-160H400v160ZM180-400h160v-160H180v160Zm440 0h160v-160H620v160ZM180-180h160v-160H180v160Zm440 0h160v-160H620v160Z\"/>\n",
              "  </svg>\n",
              "    </button>\n",
              "\n",
              "  <style>\n",
              "    .colab-df-container {\n",
              "      display:flex;\n",
              "      gap: 12px;\n",
              "    }\n",
              "\n",
              "    .colab-df-convert {\n",
              "      background-color: #E8F0FE;\n",
              "      border: none;\n",
              "      border-radius: 50%;\n",
              "      cursor: pointer;\n",
              "      display: none;\n",
              "      fill: #1967D2;\n",
              "      height: 32px;\n",
              "      padding: 0 0 0 0;\n",
              "      width: 32px;\n",
              "    }\n",
              "\n",
              "    .colab-df-convert:hover {\n",
              "      background-color: #E2EBFA;\n",
              "      box-shadow: 0px 1px 2px rgba(60, 64, 67, 0.3), 0px 1px 3px 1px rgba(60, 64, 67, 0.15);\n",
              "      fill: #174EA6;\n",
              "    }\n",
              "\n",
              "    .colab-df-buttons div {\n",
              "      margin-bottom: 4px;\n",
              "    }\n",
              "\n",
              "    [theme=dark] .colab-df-convert {\n",
              "      background-color: #3B4455;\n",
              "      fill: #D2E3FC;\n",
              "    }\n",
              "\n",
              "    [theme=dark] .colab-df-convert:hover {\n",
              "      background-color: #434B5C;\n",
              "      box-shadow: 0px 1px 3px 1px rgba(0, 0, 0, 0.15);\n",
              "      filter: drop-shadow(0px 1px 2px rgba(0, 0, 0, 0.3));\n",
              "      fill: #FFFFFF;\n",
              "    }\n",
              "  </style>\n",
              "\n",
              "    <script>\n",
              "      const buttonEl =\n",
              "        document.querySelector('#df-b2e26607-8aea-4a39-be53-e650fae9be34 button.colab-df-convert');\n",
              "      buttonEl.style.display =\n",
              "        google.colab.kernel.accessAllowed ? 'block' : 'none';\n",
              "\n",
              "      async function convertToInteractive(key) {\n",
              "        const element = document.querySelector('#df-b2e26607-8aea-4a39-be53-e650fae9be34');\n",
              "        const dataTable =\n",
              "          await google.colab.kernel.invokeFunction('convertToInteractive',\n",
              "                                                    [key], {});\n",
              "        if (!dataTable) return;\n",
              "\n",
              "        const docLinkHtml = 'Like what you see? Visit the ' +\n",
              "          '<a target=\"_blank\" href=https://colab.research.google.com/notebooks/data_table.ipynb>data table notebook</a>'\n",
              "          + ' to learn more about interactive tables.';\n",
              "        element.innerHTML = '';\n",
              "        dataTable['output_type'] = 'display_data';\n",
              "        await google.colab.output.renderOutput(dataTable, element);\n",
              "        const docLink = document.createElement('div');\n",
              "        docLink.innerHTML = docLinkHtml;\n",
              "        element.appendChild(docLink);\n",
              "      }\n",
              "    </script>\n",
              "  </div>\n",
              "\n",
              "\n",
              "<div id=\"df-bfcc9b67-d067-441b-9ea7-1fccd5e0f21a\">\n",
              "  <button class=\"colab-df-quickchart\" onclick=\"quickchart('df-bfcc9b67-d067-441b-9ea7-1fccd5e0f21a')\"\n",
              "            title=\"Suggest charts\"\n",
              "            style=\"display:none;\">\n",
              "\n",
              "<svg xmlns=\"http://www.w3.org/2000/svg\" height=\"24px\"viewBox=\"0 0 24 24\"\n",
              "     width=\"24px\">\n",
              "    <g>\n",
              "        <path d=\"M19 3H5c-1.1 0-2 .9-2 2v14c0 1.1.9 2 2 2h14c1.1 0 2-.9 2-2V5c0-1.1-.9-2-2-2zM9 17H7v-7h2v7zm4 0h-2V7h2v10zm4 0h-2v-4h2v4z\"/>\n",
              "    </g>\n",
              "</svg>\n",
              "  </button>\n",
              "\n",
              "<style>\n",
              "  .colab-df-quickchart {\n",
              "      --bg-color: #E8F0FE;\n",
              "      --fill-color: #1967D2;\n",
              "      --hover-bg-color: #E2EBFA;\n",
              "      --hover-fill-color: #174EA6;\n",
              "      --disabled-fill-color: #AAA;\n",
              "      --disabled-bg-color: #DDD;\n",
              "  }\n",
              "\n",
              "  [theme=dark] .colab-df-quickchart {\n",
              "      --bg-color: #3B4455;\n",
              "      --fill-color: #D2E3FC;\n",
              "      --hover-bg-color: #434B5C;\n",
              "      --hover-fill-color: #FFFFFF;\n",
              "      --disabled-bg-color: #3B4455;\n",
              "      --disabled-fill-color: #666;\n",
              "  }\n",
              "\n",
              "  .colab-df-quickchart {\n",
              "    background-color: var(--bg-color);\n",
              "    border: none;\n",
              "    border-radius: 50%;\n",
              "    cursor: pointer;\n",
              "    display: none;\n",
              "    fill: var(--fill-color);\n",
              "    height: 32px;\n",
              "    padding: 0;\n",
              "    width: 32px;\n",
              "  }\n",
              "\n",
              "  .colab-df-quickchart:hover {\n",
              "    background-color: var(--hover-bg-color);\n",
              "    box-shadow: 0 1px 2px rgba(60, 64, 67, 0.3), 0 1px 3px 1px rgba(60, 64, 67, 0.15);\n",
              "    fill: var(--button-hover-fill-color);\n",
              "  }\n",
              "\n",
              "  .colab-df-quickchart-complete:disabled,\n",
              "  .colab-df-quickchart-complete:disabled:hover {\n",
              "    background-color: var(--disabled-bg-color);\n",
              "    fill: var(--disabled-fill-color);\n",
              "    box-shadow: none;\n",
              "  }\n",
              "\n",
              "  .colab-df-spinner {\n",
              "    border: 2px solid var(--fill-color);\n",
              "    border-color: transparent;\n",
              "    border-bottom-color: var(--fill-color);\n",
              "    animation:\n",
              "      spin 1s steps(1) infinite;\n",
              "  }\n",
              "\n",
              "  @keyframes spin {\n",
              "    0% {\n",
              "      border-color: transparent;\n",
              "      border-bottom-color: var(--fill-color);\n",
              "      border-left-color: var(--fill-color);\n",
              "    }\n",
              "    20% {\n",
              "      border-color: transparent;\n",
              "      border-left-color: var(--fill-color);\n",
              "      border-top-color: var(--fill-color);\n",
              "    }\n",
              "    30% {\n",
              "      border-color: transparent;\n",
              "      border-left-color: var(--fill-color);\n",
              "      border-top-color: var(--fill-color);\n",
              "      border-right-color: var(--fill-color);\n",
              "    }\n",
              "    40% {\n",
              "      border-color: transparent;\n",
              "      border-right-color: var(--fill-color);\n",
              "      border-top-color: var(--fill-color);\n",
              "    }\n",
              "    60% {\n",
              "      border-color: transparent;\n",
              "      border-right-color: var(--fill-color);\n",
              "    }\n",
              "    80% {\n",
              "      border-color: transparent;\n",
              "      border-right-color: var(--fill-color);\n",
              "      border-bottom-color: var(--fill-color);\n",
              "    }\n",
              "    90% {\n",
              "      border-color: transparent;\n",
              "      border-bottom-color: var(--fill-color);\n",
              "    }\n",
              "  }\n",
              "</style>\n",
              "\n",
              "  <script>\n",
              "    async function quickchart(key) {\n",
              "      const quickchartButtonEl =\n",
              "        document.querySelector('#' + key + ' button');\n",
              "      quickchartButtonEl.disabled = true;  // To prevent multiple clicks.\n",
              "      quickchartButtonEl.classList.add('colab-df-spinner');\n",
              "      try {\n",
              "        const charts = await google.colab.kernel.invokeFunction(\n",
              "            'suggestCharts', [key], {});\n",
              "      } catch (error) {\n",
              "        console.error('Error during call to suggestCharts:', error);\n",
              "      }\n",
              "      quickchartButtonEl.classList.remove('colab-df-spinner');\n",
              "      quickchartButtonEl.classList.add('colab-df-quickchart-complete');\n",
              "    }\n",
              "    (() => {\n",
              "      let quickchartButtonEl =\n",
              "        document.querySelector('#df-bfcc9b67-d067-441b-9ea7-1fccd5e0f21a button');\n",
              "      quickchartButtonEl.style.display =\n",
              "        google.colab.kernel.accessAllowed ? 'block' : 'none';\n",
              "    })();\n",
              "  </script>\n",
              "</div>\n",
              "\n",
              "    </div>\n",
              "  </div>\n"
            ],
            "application/vnd.google.colaboratory.intrinsic+json": {
              "type": "dataframe",
              "variable_name": "extracted_features_df",
              "summary": "{\n  \"name\": \"extracted_features_df\",\n  \"rows\": 7970,\n  \"fields\": [\n    {\n      \"column\": \"feature\",\n      \"properties\": {\n        \"dtype\": \"object\",\n        \"semantic_type\": \"\",\n        \"description\": \"\"\n      }\n    },\n    {\n      \"column\": \"class\",\n      \"properties\": {\n        \"dtype\": \"category\",\n        \"num_unique_values\": 10,\n        \"samples\": [\n          \"jackhammer\",\n          \"children_playing\",\n          \"gun_shot\"\n        ],\n        \"semantic_type\": \"\",\n        \"description\": \"\"\n      }\n    }\n  ]\n}"
            }
          },
          "metadata": {},
          "execution_count": 8
        }
      ]
    },
    {
      "cell_type": "code",
      "source": [
        "extracted_features_df = pd.read_pickle(\"extracted_features.pkl\")\n",
        "\n",
        "# Use pickle.dump to save the list to a file"
      ],
      "metadata": {
        "id": "NtsFv06h_4PN"
      },
      "execution_count": 13,
      "outputs": []
    },
    {
      "cell_type": "code",
      "source": [
        "# uploading the pickel file\n",
        "\n",
        "from google.colab import drive\n",
        "import pickle\n",
        "import os\n",
        "drive.mount('/content/drive')\n",
        "save_path = \"/content/drive/My Drive/UrbanSound8K/UrbanSound8K/extracted_features.pkl\"\n",
        "\n",
        "with open(save_path, \"wb\") as f:\n",
        "    pickle.dump(extracted_features, f)\n",
        "\n",
        "print(f\"Features saved to {save_path}\")\n"
      ],
      "metadata": {
        "colab": {
          "base_uri": "https://localhost:8080/"
        },
        "id": "Xhj_HQQSXfZb",
        "outputId": "54ce9604-4974-4e94-b20e-fbd2b39b856b"
      },
      "execution_count": 14,
      "outputs": [
        {
          "output_type": "stream",
          "name": "stdout",
          "text": [
            "Drive already mounted at /content/drive; to attempt to forcibly remount, call drive.mount(\"/content/drive\", force_remount=True).\n",
            "Features saved to /content/drive/My Drive/UrbanSound8K/UrbanSound8K/extracted_features.pkl\n"
          ]
        }
      ]
    }
  ]
}